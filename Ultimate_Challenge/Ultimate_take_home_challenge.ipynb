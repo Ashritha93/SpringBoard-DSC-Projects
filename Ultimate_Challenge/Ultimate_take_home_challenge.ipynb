{
 "cells": [
  {
   "cell_type": "code",
   "execution_count": 1,
   "metadata": {},
   "outputs": [],
   "source": [
    "import pandas as pd;\n",
    "import numpy as np;\n",
    "import matplotlib.pyplot as plt;\n",
    "import seaborn as sns;"
   ]
  },
  {
   "cell_type": "markdown",
   "metadata": {},
   "source": [
    "<h4>Exploratory Data Analysis</h4>"
   ]
  },
  {
   "cell_type": "code",
   "execution_count": 2,
   "metadata": {},
   "outputs": [],
   "source": [
    "# Import the json file\n",
    "logins = pd.read_json(\"logins.json\")\n",
    "# Change the format to data time format to further proceed -\n",
    "logins = logins.apply(pd.to_datetime).set_index(logins['login_time'])"
   ]
  },
  {
   "cell_type": "code",
   "execution_count": 3,
   "metadata": {},
   "outputs": [
    {
     "data": {
      "text/html": [
       "<div>\n",
       "<style scoped>\n",
       "    .dataframe tbody tr th:only-of-type {\n",
       "        vertical-align: middle;\n",
       "    }\n",
       "\n",
       "    .dataframe tbody tr th {\n",
       "        vertical-align: top;\n",
       "    }\n",
       "\n",
       "    .dataframe thead th {\n",
       "        text-align: right;\n",
       "    }\n",
       "</style>\n",
       "<table border=\"1\" class=\"dataframe\">\n",
       "  <thead>\n",
       "    <tr style=\"text-align: right;\">\n",
       "      <th></th>\n",
       "      <th>login_time</th>\n",
       "    </tr>\n",
       "    <tr>\n",
       "      <th>login_time</th>\n",
       "      <th></th>\n",
       "    </tr>\n",
       "  </thead>\n",
       "  <tbody>\n",
       "    <tr>\n",
       "      <th>1970-01-01 20:13:18</th>\n",
       "      <td>1970-01-01 20:13:18</td>\n",
       "    </tr>\n",
       "    <tr>\n",
       "      <th>1970-01-01 20:16:10</th>\n",
       "      <td>1970-01-01 20:16:10</td>\n",
       "    </tr>\n",
       "    <tr>\n",
       "      <th>1970-01-01 20:16:37</th>\n",
       "      <td>1970-01-01 20:16:37</td>\n",
       "    </tr>\n",
       "    <tr>\n",
       "      <th>1970-01-01 20:16:36</th>\n",
       "      <td>1970-01-01 20:16:36</td>\n",
       "    </tr>\n",
       "    <tr>\n",
       "      <th>1970-01-01 20:26:21</th>\n",
       "      <td>1970-01-01 20:26:21</td>\n",
       "    </tr>\n",
       "  </tbody>\n",
       "</table>\n",
       "</div>"
      ],
      "text/plain": [
       "                             login_time\n",
       "login_time                             \n",
       "1970-01-01 20:13:18 1970-01-01 20:13:18\n",
       "1970-01-01 20:16:10 1970-01-01 20:16:10\n",
       "1970-01-01 20:16:37 1970-01-01 20:16:37\n",
       "1970-01-01 20:16:36 1970-01-01 20:16:36\n",
       "1970-01-01 20:26:21 1970-01-01 20:26:21"
      ]
     },
     "execution_count": 3,
     "metadata": {},
     "output_type": "execute_result"
    }
   ],
   "source": [
    "logins.head()"
   ]
  },
  {
   "cell_type": "code",
   "execution_count": 5,
   "metadata": {},
   "outputs": [
    {
     "data": {
      "text/html": [
       "<div>\n",
       "<style scoped>\n",
       "    .dataframe tbody tr th:only-of-type {\n",
       "        vertical-align: middle;\n",
       "    }\n",
       "\n",
       "    .dataframe tbody tr th {\n",
       "        vertical-align: top;\n",
       "    }\n",
       "\n",
       "    .dataframe thead th {\n",
       "        text-align: right;\n",
       "    }\n",
       "</style>\n",
       "<table border=\"1\" class=\"dataframe\">\n",
       "  <thead>\n",
       "    <tr style=\"text-align: right;\">\n",
       "      <th></th>\n",
       "      <th>login_time</th>\n",
       "    </tr>\n",
       "    <tr>\n",
       "      <th>login_time</th>\n",
       "      <th></th>\n",
       "    </tr>\n",
       "  </thead>\n",
       "  <tbody>\n",
       "    <tr>\n",
       "      <th>1970-04-13 18:50:19</th>\n",
       "      <td>1970-04-13 18:50:19</td>\n",
       "    </tr>\n",
       "    <tr>\n",
       "      <th>1970-04-13 18:43:56</th>\n",
       "      <td>1970-04-13 18:43:56</td>\n",
       "    </tr>\n",
       "    <tr>\n",
       "      <th>1970-04-13 18:54:02</th>\n",
       "      <td>1970-04-13 18:54:02</td>\n",
       "    </tr>\n",
       "    <tr>\n",
       "      <th>1970-04-13 18:57:38</th>\n",
       "      <td>1970-04-13 18:57:38</td>\n",
       "    </tr>\n",
       "    <tr>\n",
       "      <th>1970-04-13 18:54:23</th>\n",
       "      <td>1970-04-13 18:54:23</td>\n",
       "    </tr>\n",
       "  </tbody>\n",
       "</table>\n",
       "</div>"
      ],
      "text/plain": [
       "                             login_time\n",
       "login_time                             \n",
       "1970-04-13 18:50:19 1970-04-13 18:50:19\n",
       "1970-04-13 18:43:56 1970-04-13 18:43:56\n",
       "1970-04-13 18:54:02 1970-04-13 18:54:02\n",
       "1970-04-13 18:57:38 1970-04-13 18:57:38\n",
       "1970-04-13 18:54:23 1970-04-13 18:54:23"
      ]
     },
     "execution_count": 5,
     "metadata": {},
     "output_type": "execute_result"
    }
   ],
   "source": [
    "logins.tail()"
   ]
  },
  {
   "cell_type": "code",
   "execution_count": 21,
   "metadata": {},
   "outputs": [],
   "source": [
    "min_15 = logins.resample('15min').count()\n",
    "daily = logins.resample('D').count()\n",
    "weekly = logins.resample('W').count()\n",
    "monthly = logins.resample('M').count()\n"
   ]
  },
  {
   "cell_type": "code",
   "execution_count": 14,
   "metadata": {},
   "outputs": [
    {
     "data": {
      "image/png": "[encoded data removed]",
      "text/plain": [
       "<Figure size 576x576 with 1 Axes>"
      ]
     },
     "metadata": {
      "needs_background": "light"
     },
     "output_type": "display_data"
    }
   ],
   "source": [
    "# Plotting the login time intervals for 15 mins a piece\n",
    "plt.figure(figsize = (8,8))\n",
    "plt.plot(min_15.index, min_15['login_time'], 'g-')\n",
    "plt.title('Login times aggregated to a 15 mins time interval')\n",
    "plt.xlabel('Login_time')\n",
    "plt.ylabel('count')\n",
    "plt.xticks(rotation = 60)\n",
    "plt.show()"
   ]
  },
  {
   "cell_type": "markdown",
   "metadata": {},
   "source": [
    "The login increases and decreases keeping max level at mid-weeks time.\n",
    "There is a steady increase in logins till the begining of april and it slightly receeds. In the mid weeks of march the login count reached all time high before they started to slightly decline. "
   ]
  },
  {
   "cell_type": "code",
   "execution_count": 22,
   "metadata": {},
   "outputs": [
    {
     "data": {
      "image/png": "[encoded data removed]",
      "text/plain": [
       "<Figure size 576x576 with 1 Axes>"
      ]
     },
     "metadata": {
      "needs_background": "light"
     },
     "output_type": "display_data"
    },
    {
     "data": {
      "image/png": "[encoded data removed]",
      "text/plain": [
       "<Figure size 576x576 with 1 Axes>"
      ]
     },
     "metadata": {
      "needs_background": "light"
     },
     "output_type": "display_data"
    },
    {
     "data": {
      "image/png": "[encoded data removed]",
      "text/plain": [
       "<Figure size 576x576 with 1 Axes>"
      ]
     },
     "metadata": {
      "needs_background": "light"
     },
     "output_type": "display_data"
    }
   ],
   "source": [
    "# plt.rcParams['figure.figsize'] = 8,8\n",
    "fig, ax1 = plt.subplots()\n",
    "ax1.plot(daily.index, daily['login_time'], 'b-', marker = 'o')\n",
    "ax1.set_title('Login times aggregated at a daily level')\n",
    "ax1.set_xlabel('Login time')\n",
    "ax1.set_ylabel('Count')\n",
    "plt.xticks(rotation = 60)\n",
    "plt.show()\n",
    "\n",
    "\n",
    "# plt.rcParams['figure.figsize'] = 8,8\n",
    "fig, ax2 = plt.subplots()\n",
    "ax2.plot(weekly.index, weekly['login_time'], 'b-', marker = 'o')\n",
    "ax2.set_title('Login times aggregated at a weekly level')\n",
    "ax2.set_xlabel('Login time')\n",
    "ax2.set_ylabel('Count')\n",
    "plt.xticks(rotation = 60)\n",
    "plt.show()\n",
    "\n",
    "\n",
    "# plt.rcParams['figure.figsize'] = 8,8\n",
    "fig, ax3 = plt.subplots()\n",
    "ax3.plot(monthly.index, monthly['login_time'], 'b-', marker = 'o')\n",
    "ax3.set_title('Login times aggregated at a monthly level')\n",
    "ax3.set_xlabel('Login time')\n",
    "ax3.set_ylabel('Count')\n",
    "plt.xticks(rotation = 60)\n",
    "plt.show()"
   ]
  },
  {
   "cell_type": "code",
   "execution_count": null,
   "metadata": {},
   "outputs": [],
   "source": []
  },
  {
   "cell_type": "markdown",
   "metadata": {},
   "source": [
    "Part 2 - Experiment and metrics design \n",
    "The neighboring cities of Gotham and Metropolis have complementary circadian rhythms: \n",
    "on weekdays, Ultimate Gotham is most active at night, \n",
    "and Ultimate Metropolis is most active during the day. \n",
    "\n",
    "On weekends, there is reasonable activity in both cities. However, a toll bridge, with a two way toll, between the two cities causes driver partners to tend to be exclusive to each city. \n",
    "\n",
    "The Ultimate managers of city operations for the two cities have proposed an experiment to encourage driver partners to be available in both cities, by reimbursing all toll costs. \n",
    "<p>\n",
    "\t1. What would you choose as the key measure of success of this experiment in encouraging driver partners to serve both cities, and why would you choose this metric?<br><br>\n",
    "\t2. Describe a practical experiment you would design to compare the effectiveness of the proposed change in relation to the key measure of success.\n",
    "</p>\n",
    "\n",
    "Please provide details on:<br> \n",
    "\ta. how you will implement the experiment <br>\n",
    "\tb. what statistical test(s) you will conduct to verify the significance of the observation <br>\n",
    "\tc. how you would interpret the results and provide recommendations to the city operations team along with any caveats"
   ]
  },
  {
   "cell_type": "code",
   "execution_count": null,
   "metadata": {},
   "outputs": [],
   "source": []
  },
  {
   "cell_type": "markdown",
   "metadata": {},
   "source": [
    "1. The key metric that can be used to calculate the success of this reform will be the revenue generated by the rider before and after reimbursement of the toll money. Get the mean of revenue generated by the rider before the reimbursement scheme and mean of revenue generated by the rider after the reimbursement scheme. If the revenue generated by the rider post implementation of reimbursement is higher then we can say that the scheme is a success.\n",
    "\n",
    "\n",
    "2. Doing a two sample test be the experiment to compare the effectiveness of the proposed change.\n",
    "\n",
    "a. Take a sample containing, say 100 divers that have to pay toll and 100 drivers that do not have to pay toll.<br>\n",
    "b & c. Null Hypothesis - There is no change in mean value of the revenue of the rider.\n",
    "Alternate Hypothesis - The mean revenue generated by rider post reimbursement is higher.\n",
    "Should make sure that the samples taken in the first sample is equal to the population mean.\n",
    "If P-value of difference in means is less that 0.05 then mean of sample 2 is greater and the reimbursement scheme is a success.\n",
    "If P-value of difference in means is greater than 0.05 then reimbursement cuts do not change any revenue metric."
   ]
  },
  {
   "cell_type": "code",
   "execution_count": 33,
   "metadata": {
    "scrolled": true
   },
   "outputs": [
    {
     "data": {
      "text/html": [
       "<div>\n",
       "<style scoped>\n",
       "    .dataframe tbody tr th:only-of-type {\n",
       "        vertical-align: middle;\n",
       "    }\n",
       "\n",
       "    .dataframe tbody tr th {\n",
       "        vertical-align: top;\n",
       "    }\n",
       "\n",
       "    .dataframe thead th {\n",
       "        text-align: right;\n",
       "    }\n",
       "</style>\n",
       "<table border=\"1\" class=\"dataframe\">\n",
       "  <thead>\n",
       "    <tr style=\"text-align: right;\">\n",
       "      <th></th>\n",
       "      <th>city</th>\n",
       "      <th>trips_in_first_30_days</th>\n",
       "      <th>signup_date</th>\n",
       "      <th>avg_rating_of_driver</th>\n",
       "      <th>avg_surge</th>\n",
       "      <th>last_trip_date</th>\n",
       "      <th>phone</th>\n",
       "      <th>surge_pct</th>\n",
       "      <th>ultimate_black_user</th>\n",
       "      <th>weekday_pct</th>\n",
       "      <th>avg_dist</th>\n",
       "      <th>avg_rating_by_driver</th>\n",
       "    </tr>\n",
       "  </thead>\n",
       "  <tbody>\n",
       "    <tr>\n",
       "      <th>0</th>\n",
       "      <td>King's Landing</td>\n",
       "      <td>4</td>\n",
       "      <td>2014-01-25</td>\n",
       "      <td>4.7</td>\n",
       "      <td>1.10</td>\n",
       "      <td>2014-06-17</td>\n",
       "      <td>iPhone</td>\n",
       "      <td>15.4</td>\n",
       "      <td>True</td>\n",
       "      <td>46.2</td>\n",
       "      <td>3.67</td>\n",
       "      <td>5.0</td>\n",
       "    </tr>\n",
       "    <tr>\n",
       "      <th>1</th>\n",
       "      <td>Astapor</td>\n",
       "      <td>0</td>\n",
       "      <td>2014-01-29</td>\n",
       "      <td>5.0</td>\n",
       "      <td>1.00</td>\n",
       "      <td>2014-05-05</td>\n",
       "      <td>Android</td>\n",
       "      <td>0.0</td>\n",
       "      <td>False</td>\n",
       "      <td>50.0</td>\n",
       "      <td>8.26</td>\n",
       "      <td>5.0</td>\n",
       "    </tr>\n",
       "    <tr>\n",
       "      <th>2</th>\n",
       "      <td>Astapor</td>\n",
       "      <td>3</td>\n",
       "      <td>2014-01-06</td>\n",
       "      <td>4.3</td>\n",
       "      <td>1.00</td>\n",
       "      <td>2014-01-07</td>\n",
       "      <td>iPhone</td>\n",
       "      <td>0.0</td>\n",
       "      <td>False</td>\n",
       "      <td>100.0</td>\n",
       "      <td>0.77</td>\n",
       "      <td>5.0</td>\n",
       "    </tr>\n",
       "    <tr>\n",
       "      <th>3</th>\n",
       "      <td>King's Landing</td>\n",
       "      <td>9</td>\n",
       "      <td>2014-01-10</td>\n",
       "      <td>4.6</td>\n",
       "      <td>1.14</td>\n",
       "      <td>2014-06-29</td>\n",
       "      <td>iPhone</td>\n",
       "      <td>20.0</td>\n",
       "      <td>True</td>\n",
       "      <td>80.0</td>\n",
       "      <td>2.36</td>\n",
       "      <td>4.9</td>\n",
       "    </tr>\n",
       "    <tr>\n",
       "      <th>4</th>\n",
       "      <td>Winterfell</td>\n",
       "      <td>14</td>\n",
       "      <td>2014-01-27</td>\n",
       "      <td>4.4</td>\n",
       "      <td>1.19</td>\n",
       "      <td>2014-03-15</td>\n",
       "      <td>Android</td>\n",
       "      <td>11.8</td>\n",
       "      <td>False</td>\n",
       "      <td>82.4</td>\n",
       "      <td>3.13</td>\n",
       "      <td>4.9</td>\n",
       "    </tr>\n",
       "  </tbody>\n",
       "</table>\n",
       "</div>"
      ],
      "text/plain": [
       "             city  trips_in_first_30_days signup_date  avg_rating_of_driver  \\\n",
       "0  King's Landing                       4  2014-01-25                   4.7   \n",
       "1         Astapor                       0  2014-01-29                   5.0   \n",
       "2         Astapor                       3  2014-01-06                   4.3   \n",
       "3  King's Landing                       9  2014-01-10                   4.6   \n",
       "4      Winterfell                      14  2014-01-27                   4.4   \n",
       "\n",
       "   avg_surge last_trip_date    phone  surge_pct  ultimate_black_user  \\\n",
       "0       1.10     2014-06-17   iPhone       15.4                 True   \n",
       "1       1.00     2014-05-05  Android        0.0                False   \n",
       "2       1.00     2014-01-07   iPhone        0.0                False   \n",
       "3       1.14     2014-06-29   iPhone       20.0                 True   \n",
       "4       1.19     2014-03-15  Android       11.8                False   \n",
       "\n",
       "   weekday_pct  avg_dist  avg_rating_by_driver  \n",
       "0         46.2      3.67                   5.0  \n",
       "1         50.0      8.26                   5.0  \n",
       "2        100.0      0.77                   5.0  \n",
       "3         80.0      2.36                   4.9  \n",
       "4         82.4      3.13                   4.9  "
      ]
     },
     "execution_count": 33,
     "metadata": {},
     "output_type": "execute_result"
    }
   ],
   "source": [
    "import json\n",
    "# Import the json file\n",
    "with open('ultimate_data_challenge.json') as f:\n",
    "    data = json.load(f)\n",
    "df_rider = pd.DataFrame(data)\n",
    "df_rider.head()"
   ]
  },
  {
   "cell_type": "code",
   "execution_count": 34,
   "metadata": {},
   "outputs": [
    {
     "name": "stdout",
     "output_type": "stream",
     "text": [
      "<class 'pandas.core.frame.DataFrame'>\n",
      "RangeIndex: 50000 entries, 0 to 49999\n",
      "Data columns (total 15 columns):\n",
      "trips_in_first_30_days    50000 non-null int64\n",
      "signup_date               50000 non-null datetime64[ns]\n",
      "avg_rating_of_driver      41878 non-null float64\n",
      "avg_surge                 50000 non-null float64\n",
      "last_trip_date            50000 non-null datetime64[ns]\n",
      "surge_pct                 50000 non-null float64\n",
      "ultimate_black_user       50000 non-null bool\n",
      "weekday_pct               50000 non-null float64\n",
      "avg_dist                  50000 non-null float64\n",
      "avg_rating_by_driver      49799 non-null float64\n",
      "city_Astapor              50000 non-null uint8\n",
      "city_King's Landing       50000 non-null uint8\n",
      "city_Winterfell           50000 non-null uint8\n",
      "phone_Android             50000 non-null uint8\n",
      "phone_iPhone              50000 non-null uint8\n",
      "dtypes: bool(1), datetime64[ns](2), float64(6), int64(1), uint8(5)\n",
      "memory usage: 3.7 MB\n"
     ]
    }
   ],
   "source": [
    "categorical = ['city', 'phone']\n",
    "df_rider = pd.get_dummies(df_rider, columns = categorical)\n",
    "date_column = ['last_trip_date', 'signup_date']\n",
    "for col in date_column:\n",
    "    df_rider[col] = pd.to_datetime(df_rider[col])\n",
    "df_rider.info()"
   ]
  },
  {
   "cell_type": "code",
   "execution_count": 35,
   "metadata": {},
   "outputs": [
    {
     "name": "stdout",
     "output_type": "stream",
     "text": [
      "<class 'pandas.core.frame.DataFrame'>\n",
      "Int64Index: 41744 entries, 0 to 49998\n",
      "Data columns (total 15 columns):\n",
      "trips_in_first_30_days    41744 non-null int64\n",
      "signup_date               41744 non-null datetime64[ns]\n",
      "avg_rating_of_driver      41744 non-null float64\n",
      "avg_surge                 41744 non-null float64\n",
      "last_trip_date            41744 non-null datetime64[ns]\n",
      "surge_pct                 41744 non-null float64\n",
      "ultimate_black_user       41744 non-null bool\n",
      "weekday_pct               41744 non-null float64\n",
      "avg_dist                  41744 non-null float64\n",
      "avg_rating_by_driver      41744 non-null float64\n",
      "city_Astapor              41744 non-null uint8\n",
      "city_King's Landing       41744 non-null uint8\n",
      "city_Winterfell           41744 non-null uint8\n",
      "phone_Android             41744 non-null uint8\n",
      "phone_iPhone              41744 non-null uint8\n",
      "dtypes: bool(1), datetime64[ns](2), float64(6), int64(1), uint8(5)\n",
      "memory usage: 3.4 MB\n"
     ]
    }
   ],
   "source": [
    "df_rider = df_rider.dropna()\n",
    "df_rider.info()"
   ]
  },
  {
   "cell_type": "code",
   "execution_count": 36,
   "metadata": {},
   "outputs": [
    {
     "data": {
      "text/html": [
       "<div>\n",
       "<style scoped>\n",
       "    .dataframe tbody tr th:only-of-type {\n",
       "        vertical-align: middle;\n",
       "    }\n",
       "\n",
       "    .dataframe tbody tr th {\n",
       "        vertical-align: top;\n",
       "    }\n",
       "\n",
       "    .dataframe thead th {\n",
       "        text-align: right;\n",
       "    }\n",
       "</style>\n",
       "<table border=\"1\" class=\"dataframe\">\n",
       "  <thead>\n",
       "    <tr style=\"text-align: right;\">\n",
       "      <th></th>\n",
       "      <th>trips_in_first_30_days</th>\n",
       "      <th>avg_rating_of_driver</th>\n",
       "      <th>avg_surge</th>\n",
       "      <th>surge_pct</th>\n",
       "      <th>weekday_pct</th>\n",
       "      <th>avg_dist</th>\n",
       "      <th>avg_rating_by_driver</th>\n",
       "      <th>city_Astapor</th>\n",
       "      <th>city_King's Landing</th>\n",
       "      <th>city_Winterfell</th>\n",
       "      <th>phone_Android</th>\n",
       "      <th>phone_iPhone</th>\n",
       "    </tr>\n",
       "  </thead>\n",
       "  <tbody>\n",
       "    <tr>\n",
       "      <th>count</th>\n",
       "      <td>41744.000000</td>\n",
       "      <td>41744.000000</td>\n",
       "      <td>41744.000000</td>\n",
       "      <td>41744.000000</td>\n",
       "      <td>41744.000000</td>\n",
       "      <td>41744.000000</td>\n",
       "      <td>41744.000000</td>\n",
       "      <td>41744.000000</td>\n",
       "      <td>41744.000000</td>\n",
       "      <td>41744.000000</td>\n",
       "      <td>41744.000000</td>\n",
       "      <td>41744.000000</td>\n",
       "    </tr>\n",
       "    <tr>\n",
       "      <th>mean</th>\n",
       "      <td>2.611393</td>\n",
       "      <td>4.601801</td>\n",
       "      <td>1.073697</td>\n",
       "      <td>8.884695</td>\n",
       "      <td>61.304437</td>\n",
       "      <td>5.465312</td>\n",
       "      <td>4.776648</td>\n",
       "      <td>0.325795</td>\n",
       "      <td>0.211503</td>\n",
       "      <td>0.462701</td>\n",
       "      <td>0.289694</td>\n",
       "      <td>0.703143</td>\n",
       "    </tr>\n",
       "    <tr>\n",
       "      <th>std</th>\n",
       "      <td>4.060121</td>\n",
       "      <td>0.616079</td>\n",
       "      <td>0.198681</td>\n",
       "      <td>18.309042</td>\n",
       "      <td>34.799944</td>\n",
       "      <td>5.149810</td>\n",
       "      <td>0.404109</td>\n",
       "      <td>0.468677</td>\n",
       "      <td>0.408379</td>\n",
       "      <td>0.498613</td>\n",
       "      <td>0.453626</td>\n",
       "      <td>0.456878</td>\n",
       "    </tr>\n",
       "    <tr>\n",
       "      <th>min</th>\n",
       "      <td>0.000000</td>\n",
       "      <td>1.000000</td>\n",
       "      <td>1.000000</td>\n",
       "      <td>0.000000</td>\n",
       "      <td>0.000000</td>\n",
       "      <td>0.000000</td>\n",
       "      <td>1.000000</td>\n",
       "      <td>0.000000</td>\n",
       "      <td>0.000000</td>\n",
       "      <td>0.000000</td>\n",
       "      <td>0.000000</td>\n",
       "      <td>0.000000</td>\n",
       "    </tr>\n",
       "    <tr>\n",
       "      <th>25%</th>\n",
       "      <td>0.000000</td>\n",
       "      <td>4.300000</td>\n",
       "      <td>1.000000</td>\n",
       "      <td>0.000000</td>\n",
       "      <td>37.500000</td>\n",
       "      <td>2.420000</td>\n",
       "      <td>4.700000</td>\n",
       "      <td>0.000000</td>\n",
       "      <td>0.000000</td>\n",
       "      <td>0.000000</td>\n",
       "      <td>0.000000</td>\n",
       "      <td>0.000000</td>\n",
       "    </tr>\n",
       "    <tr>\n",
       "      <th>50%</th>\n",
       "      <td>1.000000</td>\n",
       "      <td>4.900000</td>\n",
       "      <td>1.000000</td>\n",
       "      <td>0.000000</td>\n",
       "      <td>66.700000</td>\n",
       "      <td>3.790000</td>\n",
       "      <td>5.000000</td>\n",
       "      <td>0.000000</td>\n",
       "      <td>0.000000</td>\n",
       "      <td>0.000000</td>\n",
       "      <td>0.000000</td>\n",
       "      <td>1.000000</td>\n",
       "    </tr>\n",
       "    <tr>\n",
       "      <th>75%</th>\n",
       "      <td>3.000000</td>\n",
       "      <td>5.000000</td>\n",
       "      <td>1.070000</td>\n",
       "      <td>11.100000</td>\n",
       "      <td>100.000000</td>\n",
       "      <td>6.490000</td>\n",
       "      <td>5.000000</td>\n",
       "      <td>1.000000</td>\n",
       "      <td>0.000000</td>\n",
       "      <td>1.000000</td>\n",
       "      <td>1.000000</td>\n",
       "      <td>1.000000</td>\n",
       "    </tr>\n",
       "    <tr>\n",
       "      <th>max</th>\n",
       "      <td>125.000000</td>\n",
       "      <td>5.000000</td>\n",
       "      <td>8.000000</td>\n",
       "      <td>100.000000</td>\n",
       "      <td>100.000000</td>\n",
       "      <td>79.690000</td>\n",
       "      <td>5.000000</td>\n",
       "      <td>1.000000</td>\n",
       "      <td>1.000000</td>\n",
       "      <td>1.000000</td>\n",
       "      <td>1.000000</td>\n",
       "      <td>1.000000</td>\n",
       "    </tr>\n",
       "  </tbody>\n",
       "</table>\n",
       "</div>"
      ],
      "text/plain": [
       "       trips_in_first_30_days  avg_rating_of_driver     avg_surge  \\\n",
       "count            41744.000000          41744.000000  41744.000000   \n",
       "mean                 2.611393              4.601801      1.073697   \n",
       "std                  4.060121              0.616079      0.198681   \n",
       "min                  0.000000              1.000000      1.000000   \n",
       "25%                  0.000000              4.300000      1.000000   \n",
       "50%                  1.000000              4.900000      1.000000   \n",
       "75%                  3.000000              5.000000      1.070000   \n",
       "max                125.000000              5.000000      8.000000   \n",
       "\n",
       "          surge_pct   weekday_pct      avg_dist  avg_rating_by_driver  \\\n",
       "count  41744.000000  41744.000000  41744.000000          41744.000000   \n",
       "mean       8.884695     61.304437      5.465312              4.776648   \n",
       "std       18.309042     34.799944      5.149810              0.404109   \n",
       "min        0.000000      0.000000      0.000000              1.000000   \n",
       "25%        0.000000     37.500000      2.420000              4.700000   \n",
       "50%        0.000000     66.700000      3.790000              5.000000   \n",
       "75%       11.100000    100.000000      6.490000              5.000000   \n",
       "max      100.000000    100.000000     79.690000              5.000000   \n",
       "\n",
       "       city_Astapor  city_King's Landing  city_Winterfell  phone_Android  \\\n",
       "count  41744.000000         41744.000000     41744.000000   41744.000000   \n",
       "mean       0.325795             0.211503         0.462701       0.289694   \n",
       "std        0.468677             0.408379         0.498613       0.453626   \n",
       "min        0.000000             0.000000         0.000000       0.000000   \n",
       "25%        0.000000             0.000000         0.000000       0.000000   \n",
       "50%        0.000000             0.000000         0.000000       0.000000   \n",
       "75%        1.000000             0.000000         1.000000       1.000000   \n",
       "max        1.000000             1.000000         1.000000       1.000000   \n",
       "\n",
       "       phone_iPhone  \n",
       "count  41744.000000  \n",
       "mean       0.703143  \n",
       "std        0.456878  \n",
       "min        0.000000  \n",
       "25%        0.000000  \n",
       "50%        1.000000  \n",
       "75%        1.000000  \n",
       "max        1.000000  "
      ]
     },
     "execution_count": 36,
     "metadata": {},
     "output_type": "execute_result"
    }
   ],
   "source": [
    "df_rider.describe()"
   ]
  },
  {
   "cell_type": "code",
   "execution_count": 37,
   "metadata": {},
   "outputs": [],
   "source": [
    "df_rider['retention'] = np.where((df_rider['last_trip_date'] > '2014--06-01'), 1, 0)"
   ]
  },
  {
   "cell_type": "code",
   "execution_count": 38,
   "metadata": {},
   "outputs": [
    {
     "data": {
      "text/plain": [
       "0.4007282483710234"
      ]
     },
     "execution_count": 38,
     "metadata": {},
     "output_type": "execute_result"
    }
   ],
   "source": [
    "sum(df_rider.retention)/len(df_rider)"
   ]
  },
  {
   "cell_type": "markdown",
   "metadata": {},
   "source": [
    "Unnecessary columns for the prediction task will be removed. The last trip date feature will be removed because the retention label (dependent variable). "
   ]
  },
  {
   "cell_type": "code",
   "execution_count": 39,
   "metadata": {},
   "outputs": [],
   "source": [
    "df_rider = df_rider.drop('last_trip_date', axis=1)"
   ]
  },
  {
   "cell_type": "code",
   "execution_count": 40,
   "metadata": {},
   "outputs": [
    {
     "data": {
      "text/html": [
       "<div>\n",
       "<style scoped>\n",
       "    .dataframe tbody tr th:only-of-type {\n",
       "        vertical-align: middle;\n",
       "    }\n",
       "\n",
       "    .dataframe tbody tr th {\n",
       "        vertical-align: top;\n",
       "    }\n",
       "\n",
       "    .dataframe thead th {\n",
       "        text-align: right;\n",
       "    }\n",
       "</style>\n",
       "<table border=\"1\" class=\"dataframe\">\n",
       "  <thead>\n",
       "    <tr style=\"text-align: right;\">\n",
       "      <th></th>\n",
       "      <th>trips_in_first_30_days</th>\n",
       "      <th>signup_date</th>\n",
       "      <th>avg_rating_of_driver</th>\n",
       "      <th>avg_surge</th>\n",
       "      <th>surge_pct</th>\n",
       "      <th>ultimate_black_user</th>\n",
       "      <th>weekday_pct</th>\n",
       "      <th>avg_dist</th>\n",
       "      <th>avg_rating_by_driver</th>\n",
       "      <th>city_Astapor</th>\n",
       "      <th>city_King's Landing</th>\n",
       "      <th>city_Winterfell</th>\n",
       "      <th>phone_Android</th>\n",
       "      <th>phone_iPhone</th>\n",
       "      <th>retention</th>\n",
       "    </tr>\n",
       "  </thead>\n",
       "  <tbody>\n",
       "    <tr>\n",
       "      <th>0</th>\n",
       "      <td>4</td>\n",
       "      <td>2014-01-25</td>\n",
       "      <td>4.7</td>\n",
       "      <td>1.10</td>\n",
       "      <td>15.4</td>\n",
       "      <td>True</td>\n",
       "      <td>46.2</td>\n",
       "      <td>3.67</td>\n",
       "      <td>5.0</td>\n",
       "      <td>0</td>\n",
       "      <td>1</td>\n",
       "      <td>0</td>\n",
       "      <td>0</td>\n",
       "      <td>1</td>\n",
       "      <td>1</td>\n",
       "    </tr>\n",
       "    <tr>\n",
       "      <th>1</th>\n",
       "      <td>0</td>\n",
       "      <td>2014-01-29</td>\n",
       "      <td>5.0</td>\n",
       "      <td>1.00</td>\n",
       "      <td>0.0</td>\n",
       "      <td>False</td>\n",
       "      <td>50.0</td>\n",
       "      <td>8.26</td>\n",
       "      <td>5.0</td>\n",
       "      <td>1</td>\n",
       "      <td>0</td>\n",
       "      <td>0</td>\n",
       "      <td>1</td>\n",
       "      <td>0</td>\n",
       "      <td>0</td>\n",
       "    </tr>\n",
       "    <tr>\n",
       "      <th>2</th>\n",
       "      <td>3</td>\n",
       "      <td>2014-01-06</td>\n",
       "      <td>4.3</td>\n",
       "      <td>1.00</td>\n",
       "      <td>0.0</td>\n",
       "      <td>False</td>\n",
       "      <td>100.0</td>\n",
       "      <td>0.77</td>\n",
       "      <td>5.0</td>\n",
       "      <td>1</td>\n",
       "      <td>0</td>\n",
       "      <td>0</td>\n",
       "      <td>0</td>\n",
       "      <td>1</td>\n",
       "      <td>0</td>\n",
       "    </tr>\n",
       "    <tr>\n",
       "      <th>3</th>\n",
       "      <td>9</td>\n",
       "      <td>2014-01-10</td>\n",
       "      <td>4.6</td>\n",
       "      <td>1.14</td>\n",
       "      <td>20.0</td>\n",
       "      <td>True</td>\n",
       "      <td>80.0</td>\n",
       "      <td>2.36</td>\n",
       "      <td>4.9</td>\n",
       "      <td>0</td>\n",
       "      <td>1</td>\n",
       "      <td>0</td>\n",
       "      <td>0</td>\n",
       "      <td>1</td>\n",
       "      <td>1</td>\n",
       "    </tr>\n",
       "    <tr>\n",
       "      <th>4</th>\n",
       "      <td>14</td>\n",
       "      <td>2014-01-27</td>\n",
       "      <td>4.4</td>\n",
       "      <td>1.19</td>\n",
       "      <td>11.8</td>\n",
       "      <td>False</td>\n",
       "      <td>82.4</td>\n",
       "      <td>3.13</td>\n",
       "      <td>4.9</td>\n",
       "      <td>0</td>\n",
       "      <td>0</td>\n",
       "      <td>1</td>\n",
       "      <td>1</td>\n",
       "      <td>0</td>\n",
       "      <td>0</td>\n",
       "    </tr>\n",
       "  </tbody>\n",
       "</table>\n",
       "</div>"
      ],
      "text/plain": [
       "   trips_in_first_30_days signup_date  avg_rating_of_driver  avg_surge  \\\n",
       "0                       4  2014-01-25                   4.7       1.10   \n",
       "1                       0  2014-01-29                   5.0       1.00   \n",
       "2                       3  2014-01-06                   4.3       1.00   \n",
       "3                       9  2014-01-10                   4.6       1.14   \n",
       "4                      14  2014-01-27                   4.4       1.19   \n",
       "\n",
       "   surge_pct  ultimate_black_user  weekday_pct  avg_dist  \\\n",
       "0       15.4                 True         46.2      3.67   \n",
       "1        0.0                False         50.0      8.26   \n",
       "2        0.0                False        100.0      0.77   \n",
       "3       20.0                 True         80.0      2.36   \n",
       "4       11.8                False         82.4      3.13   \n",
       "\n",
       "   avg_rating_by_driver  city_Astapor  city_King's Landing  city_Winterfell  \\\n",
       "0                   5.0             0                    1                0   \n",
       "1                   5.0             1                    0                0   \n",
       "2                   5.0             1                    0                0   \n",
       "3                   4.9             0                    1                0   \n",
       "4                   4.9             0                    0                1   \n",
       "\n",
       "   phone_Android  phone_iPhone  retention  \n",
       "0              0             1          1  \n",
       "1              1             0          0  \n",
       "2              0             1          0  \n",
       "3              0             1          1  \n",
       "4              1             0          0  "
      ]
     },
     "execution_count": 40,
     "metadata": {},
     "output_type": "execute_result"
    }
   ],
   "source": [
    "df_rider.head()"
   ]
  },
  {
   "cell_type": "code",
   "execution_count": 44,
   "metadata": {},
   "outputs": [
    {
     "data": {
      "image/png": "[encoded data removed]",
      "text/plain": [
       "<Figure size 360x360 with 1 Axes>"
      ]
     },
     "metadata": {},
     "output_type": "display_data"
    }
   ],
   "source": [
    "# Relationship between Retention vs Average Distance\n",
    "sns.lmplot('avg_dist', 'retention', df_rider, logistic = True)\n",
    "plt.title('Probability of Retention vs Average Distance')\n",
    "plt.show()"
   ]
  },
  {
   "cell_type": "markdown",
   "metadata": {},
   "source": [
    "As average distance of the driver increases the probability of retention goes down."
   ]
  },
  {
   "cell_type": "code",
   "execution_count": 45,
   "metadata": {},
   "outputs": [
    {
     "data": {
      "image/png": "[encoded data removed]",
      "text/plain": [
       "<Figure size 360x360 with 1 Axes>"
      ]
     },
     "metadata": {},
     "output_type": "display_data"
    }
   ],
   "source": [
    "# Relationship between average rating of driver and retention\n",
    "sns.lmplot('avg_rating_of_driver', 'retention', data=df_rider)\n",
    "plt.title('Relationship between average rating of driver and retention')\n",
    "plt.show()"
   ]
  },
  {
   "cell_type": "markdown",
   "metadata": {},
   "source": [
    "There is a slight relationship where the retention decreases with respect to increase in average ratings."
   ]
  },
  {
   "cell_type": "code",
   "execution_count": 46,
   "metadata": {},
   "outputs": [
    {
     "data": {
      "image/png": "[encoded data removed]",
      "text/plain": [
       "<Figure size 360x360 with 1 Axes>"
      ]
     },
     "metadata": {},
     "output_type": "display_data"
    }
   ],
   "source": [
    "# Relationship between average surge and retention\n",
    "sns.lmplot('avg_surge', 'retention', data=df_rider)\n",
    "plt.title('Relationship between average surge and retention')\n",
    "plt.show()"
   ]
  },
  {
   "cell_type": "markdown",
   "metadata": {},
   "source": [
    "Increase in surge leads to high retention."
   ]
  },
  {
   "cell_type": "code",
   "execution_count": 53,
   "metadata": {},
   "outputs": [
    {
     "data": {
      "image/png": "[encoded data removed]",
      "text/plain": [
       "<Figure size 360x360 with 1 Axes>"
      ]
     },
     "metadata": {},
     "output_type": "display_data"
    }
   ],
   "source": [
    "a = sns.lmplot('trips_in_first_30_days', 'retention', data = df_rider)\n",
    "a.set(ylim=(-0.1, 1.1))\n",
    "plt.title('Relationship between trips in first 30 days and retention')\n",
    "plt.show()"
   ]
  },
  {
   "cell_type": "code",
   "execution_count": 49,
   "metadata": {},
   "outputs": [
    {
     "data": {
      "image/png": "[encoded data removed]",
      "text/plain": [
       "<Figure size 360x360 with 1 Axes>"
      ]
     },
     "metadata": {},
     "output_type": "display_data"
    }
   ],
   "source": [
    "sns.lmplot('ultimate_black_user', 'retention', data = df_rider)\n",
    "plt.title('Relationship between black user and retention')\n",
    "plt.show()"
   ]
  },
  {
   "cell_type": "code",
   "execution_count": 54,
   "metadata": {},
   "outputs": [
    {
     "data": {
      "text/plain": [
       "Text(0.5, 1.0, 'Retention Rate for Ultimate Black Users and Non-users')"
      ]
     },
     "execution_count": 54,
     "metadata": {},
     "output_type": "execute_result"
    },
    {
     "data": {
      "image/png": "[encoded data removed]",
      "text/plain": [
       "<Figure size 576x576 with 1 Axes>"
      ]
     },
     "metadata": {},
     "output_type": "display_data"
    }
   ],
   "source": [
    "black_user=df_rider.groupby('ultimate_black_user').mean()['retention']\n",
    "ax, fig=plt.subplots()\n",
    "\n",
    "black_user.plot(kind='bar')\n",
    "plt.xticks((0, 1), ('Non-user', 'Ultimate Black User'), rotation=60)\n",
    "plt.title('Retention Rate for Ultimate Black Users and Non-users')"
   ]
  },
  {
   "cell_type": "code",
   "execution_count": 55,
   "metadata": {},
   "outputs": [
    {
     "data": {
      "text/plain": [
       "Text(0.5, 1.0, 'Retention Rate by City of User Signup')"
      ]
     },
     "execution_count": 55,
     "metadata": {},
     "output_type": "execute_result"
    },
    {
     "data": {
      "image/png": "[encoded data removed]",
      "text/plain": [
       "<Figure size 576x576 with 1 Axes>"
      ]
     },
     "metadata": {},
     "output_type": "display_data"
    }
   ],
   "source": [
    "cities=['city_Astapor', 'city_King\\'s Landing', 'city_Winterfell']\n",
    "retention_by_city=[]\n",
    "for city in cities:\n",
    "    retention=(df_rider.groupby(city).mean()['retention'].iloc[1])\n",
    "    retention_by_city.append(retention)\n",
    "\n",
    "plt.bar(['Astapor', 'King\\'s Landing', 'Winterfell'], retention_by_city)\n",
    "plt.title('Retention Rate by City of User Signup')"
   ]
  },
  {
   "cell_type": "code",
   "execution_count": 56,
   "metadata": {},
   "outputs": [
    {
     "data": {
      "text/plain": [
       "Text(0.5, 1.0, 'Retention Rate by Type of Phone')"
      ]
     },
     "execution_count": 56,
     "metadata": {},
     "output_type": "execute_result"
    },
    {
     "data": {
      "image/png": "[encoded data removed]",
      "text/plain": [
       "<Figure size 576x576 with 1 Axes>"
      ]
     },
     "metadata": {},
     "output_type": "display_data"
    }
   ],
   "source": [
    "phones=['phone_Android', 'phone_iPhone']\n",
    "retention_by_phone=[]\n",
    "for phone in phones:\n",
    "    retention=(df_rider.groupby(phone).mean()['retention'].iloc[1])\n",
    "    retention_by_phone.append(retention)\n",
    "\n",
    "plt.bar(['Android', 'iPhone'], retention_by_phone)\n",
    "plt.title('Retention Rate by Type of Phone')"
   ]
  },
  {
   "cell_type": "markdown",
   "metadata": {},
   "source": [
    "<h4> Part 3 - Prediction </h4>"
   ]
  },
  {
   "cell_type": "code",
   "execution_count": 71,
   "metadata": {},
   "outputs": [],
   "source": [
    "y=df_rider['retention']\n",
    "X=df_rider.drop(['retention', 'signup_date'], axis=1)"
   ]
  },
  {
   "cell_type": "code",
   "execution_count": 72,
   "metadata": {
    "scrolled": true
   },
   "outputs": [
    {
     "name": "stdout",
     "output_type": "stream",
     "text": [
      "<class 'pandas.core.frame.DataFrame'>\n",
      "Int64Index: 41744 entries, 0 to 49998\n",
      "Data columns (total 13 columns):\n",
      "trips_in_first_30_days    41744 non-null int64\n",
      "avg_rating_of_driver      41744 non-null float64\n",
      "avg_surge                 41744 non-null float64\n",
      "surge_pct                 41744 non-null float64\n",
      "ultimate_black_user       41744 non-null bool\n",
      "weekday_pct               41744 non-null float64\n",
      "avg_dist                  41744 non-null float64\n",
      "avg_rating_by_driver      41744 non-null float64\n",
      "city_Astapor              41744 non-null uint8\n",
      "city_King's Landing       41744 non-null uint8\n",
      "city_Winterfell           41744 non-null uint8\n",
      "phone_Android             41744 non-null uint8\n",
      "phone_iPhone              41744 non-null uint8\n",
      "dtypes: bool(1), float64(6), int64(1), uint8(5)\n",
      "memory usage: 2.8 MB\n"
     ]
    }
   ],
   "source": [
    "X.info()"
   ]
  },
  {
   "cell_type": "code",
   "execution_count": 73,
   "metadata": {},
   "outputs": [
    {
     "data": {
      "text/html": [
       "<div>\n",
       "<style scoped>\n",
       "    .dataframe tbody tr th:only-of-type {\n",
       "        vertical-align: middle;\n",
       "    }\n",
       "\n",
       "    .dataframe tbody tr th {\n",
       "        vertical-align: top;\n",
       "    }\n",
       "\n",
       "    .dataframe thead th {\n",
       "        text-align: right;\n",
       "    }\n",
       "</style>\n",
       "<table border=\"1\" class=\"dataframe\">\n",
       "  <thead>\n",
       "    <tr style=\"text-align: right;\">\n",
       "      <th></th>\n",
       "      <th>trips_in_first_30_days</th>\n",
       "      <th>avg_rating_of_driver</th>\n",
       "      <th>avg_surge</th>\n",
       "      <th>surge_pct</th>\n",
       "      <th>weekday_pct</th>\n",
       "      <th>avg_dist</th>\n",
       "      <th>avg_rating_by_driver</th>\n",
       "      <th>city_Astapor</th>\n",
       "      <th>city_King's Landing</th>\n",
       "      <th>city_Winterfell</th>\n",
       "      <th>phone_Android</th>\n",
       "      <th>phone_iPhone</th>\n",
       "    </tr>\n",
       "  </thead>\n",
       "  <tbody>\n",
       "    <tr>\n",
       "      <th>count</th>\n",
       "      <td>41744.000000</td>\n",
       "      <td>41744.000000</td>\n",
       "      <td>41744.000000</td>\n",
       "      <td>41744.000000</td>\n",
       "      <td>41744.000000</td>\n",
       "      <td>41744.000000</td>\n",
       "      <td>41744.000000</td>\n",
       "      <td>41744.000000</td>\n",
       "      <td>41744.000000</td>\n",
       "      <td>41744.000000</td>\n",
       "      <td>41744.000000</td>\n",
       "      <td>41744.000000</td>\n",
       "    </tr>\n",
       "    <tr>\n",
       "      <th>mean</th>\n",
       "      <td>2.611393</td>\n",
       "      <td>4.601801</td>\n",
       "      <td>1.073697</td>\n",
       "      <td>8.884695</td>\n",
       "      <td>61.304437</td>\n",
       "      <td>5.465312</td>\n",
       "      <td>4.776648</td>\n",
       "      <td>0.325795</td>\n",
       "      <td>0.211503</td>\n",
       "      <td>0.462701</td>\n",
       "      <td>0.289694</td>\n",
       "      <td>0.703143</td>\n",
       "    </tr>\n",
       "    <tr>\n",
       "      <th>std</th>\n",
       "      <td>4.060121</td>\n",
       "      <td>0.616079</td>\n",
       "      <td>0.198681</td>\n",
       "      <td>18.309042</td>\n",
       "      <td>34.799944</td>\n",
       "      <td>5.149810</td>\n",
       "      <td>0.404109</td>\n",
       "      <td>0.468677</td>\n",
       "      <td>0.408379</td>\n",
       "      <td>0.498613</td>\n",
       "      <td>0.453626</td>\n",
       "      <td>0.456878</td>\n",
       "    </tr>\n",
       "    <tr>\n",
       "      <th>min</th>\n",
       "      <td>0.000000</td>\n",
       "      <td>1.000000</td>\n",
       "      <td>1.000000</td>\n",
       "      <td>0.000000</td>\n",
       "      <td>0.000000</td>\n",
       "      <td>0.000000</td>\n",
       "      <td>1.000000</td>\n",
       "      <td>0.000000</td>\n",
       "      <td>0.000000</td>\n",
       "      <td>0.000000</td>\n",
       "      <td>0.000000</td>\n",
       "      <td>0.000000</td>\n",
       "    </tr>\n",
       "    <tr>\n",
       "      <th>25%</th>\n",
       "      <td>0.000000</td>\n",
       "      <td>4.300000</td>\n",
       "      <td>1.000000</td>\n",
       "      <td>0.000000</td>\n",
       "      <td>37.500000</td>\n",
       "      <td>2.420000</td>\n",
       "      <td>4.700000</td>\n",
       "      <td>0.000000</td>\n",
       "      <td>0.000000</td>\n",
       "      <td>0.000000</td>\n",
       "      <td>0.000000</td>\n",
       "      <td>0.000000</td>\n",
       "    </tr>\n",
       "    <tr>\n",
       "      <th>50%</th>\n",
       "      <td>1.000000</td>\n",
       "      <td>4.900000</td>\n",
       "      <td>1.000000</td>\n",
       "      <td>0.000000</td>\n",
       "      <td>66.700000</td>\n",
       "      <td>3.790000</td>\n",
       "      <td>5.000000</td>\n",
       "      <td>0.000000</td>\n",
       "      <td>0.000000</td>\n",
       "      <td>0.000000</td>\n",
       "      <td>0.000000</td>\n",
       "      <td>1.000000</td>\n",
       "    </tr>\n",
       "    <tr>\n",
       "      <th>75%</th>\n",
       "      <td>3.000000</td>\n",
       "      <td>5.000000</td>\n",
       "      <td>1.070000</td>\n",
       "      <td>11.100000</td>\n",
       "      <td>100.000000</td>\n",
       "      <td>6.490000</td>\n",
       "      <td>5.000000</td>\n",
       "      <td>1.000000</td>\n",
       "      <td>0.000000</td>\n",
       "      <td>1.000000</td>\n",
       "      <td>1.000000</td>\n",
       "      <td>1.000000</td>\n",
       "    </tr>\n",
       "    <tr>\n",
       "      <th>max</th>\n",
       "      <td>125.000000</td>\n",
       "      <td>5.000000</td>\n",
       "      <td>8.000000</td>\n",
       "      <td>100.000000</td>\n",
       "      <td>100.000000</td>\n",
       "      <td>79.690000</td>\n",
       "      <td>5.000000</td>\n",
       "      <td>1.000000</td>\n",
       "      <td>1.000000</td>\n",
       "      <td>1.000000</td>\n",
       "      <td>1.000000</td>\n",
       "      <td>1.000000</td>\n",
       "    </tr>\n",
       "  </tbody>\n",
       "</table>\n",
       "</div>"
      ],
      "text/plain": [
       "       trips_in_first_30_days  avg_rating_of_driver     avg_surge  \\\n",
       "count            41744.000000          41744.000000  41744.000000   \n",
       "mean                 2.611393              4.601801      1.073697   \n",
       "std                  4.060121              0.616079      0.198681   \n",
       "min                  0.000000              1.000000      1.000000   \n",
       "25%                  0.000000              4.300000      1.000000   \n",
       "50%                  1.000000              4.900000      1.000000   \n",
       "75%                  3.000000              5.000000      1.070000   \n",
       "max                125.000000              5.000000      8.000000   \n",
       "\n",
       "          surge_pct   weekday_pct      avg_dist  avg_rating_by_driver  \\\n",
       "count  41744.000000  41744.000000  41744.000000          41744.000000   \n",
       "mean       8.884695     61.304437      5.465312              4.776648   \n",
       "std       18.309042     34.799944      5.149810              0.404109   \n",
       "min        0.000000      0.000000      0.000000              1.000000   \n",
       "25%        0.000000     37.500000      2.420000              4.700000   \n",
       "50%        0.000000     66.700000      3.790000              5.000000   \n",
       "75%       11.100000    100.000000      6.490000              5.000000   \n",
       "max      100.000000    100.000000     79.690000              5.000000   \n",
       "\n",
       "       city_Astapor  city_King's Landing  city_Winterfell  phone_Android  \\\n",
       "count  41744.000000         41744.000000     41744.000000   41744.000000   \n",
       "mean       0.325795             0.211503         0.462701       0.289694   \n",
       "std        0.468677             0.408379         0.498613       0.453626   \n",
       "min        0.000000             0.000000         0.000000       0.000000   \n",
       "25%        0.000000             0.000000         0.000000       0.000000   \n",
       "50%        0.000000             0.000000         0.000000       0.000000   \n",
       "75%        1.000000             0.000000         1.000000       1.000000   \n",
       "max        1.000000             1.000000         1.000000       1.000000   \n",
       "\n",
       "       phone_iPhone  \n",
       "count  41744.000000  \n",
       "mean       0.703143  \n",
       "std        0.456878  \n",
       "min        0.000000  \n",
       "25%        0.000000  \n",
       "50%        1.000000  \n",
       "75%        1.000000  \n",
       "max        1.000000  "
      ]
     },
     "execution_count": 73,
     "metadata": {},
     "output_type": "execute_result"
    }
   ],
   "source": [
    "X.describe()"
   ]
  },
  {
   "cell_type": "code",
   "execution_count": 75,
   "metadata": {},
   "outputs": [
    {
     "name": "stdout",
     "output_type": "stream",
     "text": [
      "[[8189 1817]\n",
      " [3091 3601]]\n",
      "              precision    recall  f1-score   support\n",
      "\n",
      "           0       0.73      0.82      0.77     10006\n",
      "           1       0.66      0.54      0.59      6692\n",
      "\n",
      "    accuracy                           0.71     16698\n",
      "   macro avg       0.70      0.68      0.68     16698\n",
      "weighted avg       0.70      0.71      0.70     16698\n",
      "\n"
     ]
    }
   ],
   "source": [
    "\n",
    "from sklearn.metrics import confusion_matrix, classification_report\n",
    "from sklearn.model_selection import train_test_split\n",
    "from sklearn.linear_model import LogisticRegression\n",
    "from sklearn.model_selection import GridSearchCV\n",
    "# Create training and test sets\n",
    "X_train, X_test, y_train, y_test = train_test_split(X, y, test_size = 0.4, random_state=42)\n",
    "\n",
    "# Create the classifier: logreg\n",
    "logreg = LogisticRegression(solver='lbfgs', max_iter = 1000)\n",
    "\n",
    "# Fit the classifier to the training data\n",
    "logreg.fit(X_train,y_train)\n",
    "\n",
    "# Predict the labels of the test set: y_pred\n",
    "y_pred = logreg.predict(X_test)\n",
    "\n",
    "# Compute and print the confusion matrix and classification report\n",
    "print(confusion_matrix(y_test, y_pred))\n",
    "print(classification_report(y_test, y_pred))\n"
   ]
  },
  {
   "cell_type": "code",
   "execution_count": 76,
   "metadata": {},
   "outputs": [
    {
     "data": {
      "image/png": "[encoded data removed]",
      "text/plain": [
       "<Figure size 576x576 with 1 Axes>"
      ]
     },
     "metadata": {},
     "output_type": "display_data"
    }
   ],
   "source": [
    "from sklearn.metrics import roc_curve\n",
    "\n",
    "# Compute predicted probabilities: y_pred_prob\n",
    "y_pred_prob = logreg.predict_proba(X_test)[:,1]\n",
    "\n",
    "# Generate ROC curve values: fpr, tpr, thresholds\n",
    "fpr, tpr, thresholds = roc_curve(y_test, y_pred_prob)\n",
    "\n",
    "# Plot ROC curve\n",
    "plt.plot([0, 1], [0, 1], 'k--')\n",
    "plt.plot(fpr, tpr)\n",
    "plt.xlabel('False Positive Rate')\n",
    "plt.ylabel('True Positive Rate')\n",
    "plt.title('ROC Curve')\n",
    "plt.show()"
   ]
  },
  {
   "cell_type": "code",
   "execution_count": 77,
   "metadata": {},
   "outputs": [
    {
     "name": "stdout",
     "output_type": "stream",
     "text": [
      "AUC: 0.7590965519313636\n",
      "AUC scores computed using 5-fold cross-validation: [0.76693488 0.76447479 0.75908098 0.76592603 0.77010708]\n"
     ]
    }
   ],
   "source": [
    "from sklearn.metrics import roc_auc_score\n",
    "from sklearn.model_selection import cross_val_score\n",
    "\n",
    "# Compute predicted probabilities: y_pred_prob\n",
    "y_pred_prob = logreg.predict_proba(X_test)[:,1]\n",
    "\n",
    "# Compute and print AUC score\n",
    "print(\"AUC: {}\".format(roc_auc_score(y_test, y_pred_prob)))\n",
    "\n",
    "# Compute cross-validated AUC scores: cv_auc\n",
    "cv_auc = cross_val_score(logreg, X, y, cv = 5,scoring = 'roc_auc')\n",
    "\n",
    "# Print list of AUC scores\n",
    "print(\"AUC scores computed using 5-fold cross-validation: {}\".format(cv_auc))"
   ]
  },
  {
   "cell_type": "code",
   "execution_count": 94,
   "metadata": {},
   "outputs": [],
   "source": [
    "from sklearn.ensemble import RandomForestClassifier"
   ]
  },
  {
   "cell_type": "code",
   "execution_count": 96,
   "metadata": {},
   "outputs": [
    {
     "name": "stdout",
     "output_type": "stream",
     "text": [
      "Fitting 3 folds for each of 288 candidates, totalling 864 fits\n",
      "[CV] bootstrap=True, max_depth=40, max_features=2, min_samples_leaf=3, min_samples_split=3, n_estimators=50 \n"
     ]
    },
    {
     "name": "stderr",
     "output_type": "stream",
     "text": [
      "[Parallel(n_jobs=1)]: Using backend SequentialBackend with 1 concurrent workers.\n"
     ]
    },
    {
     "name": "stdout",
     "output_type": "stream",
     "text": [
      "[CV]  bootstrap=True, max_depth=40, max_features=2, min_samples_leaf=3, min_samples_split=3, n_estimators=50, total=   1.4s\n",
      "[CV] bootstrap=True, max_depth=40, max_features=2, min_samples_leaf=3, min_samples_split=3, n_estimators=50 \n"
     ]
    },
    {
     "name": "stderr",
     "output_type": "stream",
     "text": [
      "[Parallel(n_jobs=1)]: Done   1 out of   1 | elapsed:    1.3s remaining:    0.0s\n"
     ]
    },
    {
     "name": "stdout",
     "output_type": "stream",
     "text": [
      "[CV]  bootstrap=True, max_depth=40, max_features=2, min_samples_leaf=3, min_samples_split=3, n_estimators=50, total=   1.4s\n",
      "[CV] bootstrap=True, max_depth=40, max_features=2, min_samples_leaf=3, min_samples_split=3, n_estimators=50 \n",
      "[CV]  bootstrap=True, max_depth=40, max_features=2, min_samples_leaf=3, min_samples_split=3, n_estimators=50, total=   1.4s\n",
      "[CV] bootstrap=True, max_depth=40, max_features=2, min_samples_leaf=3, min_samples_split=3, n_estimators=60 \n",
      "[CV]  bootstrap=True, max_depth=40, max_features=2, min_samples_leaf=3, min_samples_split=3, n_estimators=60, total=   1.7s\n",
      "[CV] bootstrap=True, max_depth=40, max_features=2, min_samples_leaf=3, min_samples_split=3, n_estimators=60 \n",
      "[CV]  bootstrap=True, max_depth=40, max_features=2, min_samples_leaf=3, min_samples_split=3, n_estimators=60, total=   1.7s\n",
      "[CV] bootstrap=True, max_depth=40, max_features=2, min_samples_leaf=3, min_samples_split=3, n_estimators=60 \n",
      "[CV]  bootstrap=True, max_depth=40, max_features=2, min_samples_leaf=3, min_samples_split=3, n_estimators=60, total=   1.8s\n",
      "[CV] bootstrap=True, max_depth=40, max_features=2, min_samples_leaf=3, min_samples_split=3, n_estimators=70 \n",
      "[CV]  bootstrap=True, max_depth=40, max_features=2, min_samples_leaf=3, min_samples_split=3, n_estimators=70, total=   2.1s\n",
      "[CV] bootstrap=True, max_depth=40, max_features=2, min_samples_leaf=3, min_samples_split=3, n_estimators=70 \n",
      "[CV]  bootstrap=True, max_depth=40, max_features=2, min_samples_leaf=3, min_samples_split=3, n_estimators=70, total=   1.9s\n",
      "[CV] bootstrap=True, max_depth=40, max_features=2, min_samples_leaf=3, min_samples_split=3, n_estimators=70 \n",
      "[CV]  bootstrap=True, max_depth=40, max_features=2, min_samples_leaf=3, min_samples_split=3, n_estimators=70, total=   1.9s\n",
      "[CV] bootstrap=True, max_depth=40, max_features=2, min_samples_leaf=3, min_samples_split=3, n_estimators=80 \n",
      "[CV]  bootstrap=True, max_depth=40, max_features=2, min_samples_leaf=3, min_samples_split=3, n_estimators=80, total=   2.2s\n",
      "[CV] bootstrap=True, max_depth=40, max_features=2, min_samples_leaf=3, min_samples_split=3, n_estimators=80 \n",
      "[CV]  bootstrap=True, max_depth=40, max_features=2, min_samples_leaf=3, min_samples_split=3, n_estimators=80, total=   2.2s\n",
      "[CV] bootstrap=True, max_depth=40, max_features=2, min_samples_leaf=3, min_samples_split=3, n_estimators=80 \n",
      "[CV]  bootstrap=True, max_depth=40, max_features=2, min_samples_leaf=3, min_samples_split=3, n_estimators=80, total=   2.2s\n",
      "[CV] bootstrap=True, max_depth=40, max_features=2, min_samples_leaf=3, min_samples_split=4, n_estimators=50 \n",
      "[CV]  bootstrap=True, max_depth=40, max_features=2, min_samples_leaf=3, min_samples_split=4, n_estimators=50, total=   1.4s\n",
      "[CV] bootstrap=True, max_depth=40, max_features=2, min_samples_leaf=3, min_samples_split=4, n_estimators=50 \n",
      "[CV]  bootstrap=True, max_depth=40, max_features=2, min_samples_leaf=3, min_samples_split=4, n_estimators=50, total=   1.4s\n",
      "[CV] bootstrap=True, max_depth=40, max_features=2, min_samples_leaf=3, min_samples_split=4, n_estimators=50 \n",
      "[CV]  bootstrap=True, max_depth=40, max_features=2, min_samples_leaf=3, min_samples_split=4, n_estimators=50, total=   1.4s\n",
      "[CV] bootstrap=True, max_depth=40, max_features=2, min_samples_leaf=3, min_samples_split=4, n_estimators=60 \n",
      "[CV]  bootstrap=True, max_depth=40, max_features=2, min_samples_leaf=3, min_samples_split=4, n_estimators=60, total=   1.7s\n",
      "[CV] bootstrap=True, max_depth=40, max_features=2, min_samples_leaf=3, min_samples_split=4, n_estimators=60 \n",
      "[CV]  bootstrap=True, max_depth=40, max_features=2, min_samples_leaf=3, min_samples_split=4, n_estimators=60, total=   1.6s\n",
      "[CV] bootstrap=True, max_depth=40, max_features=2, min_samples_leaf=3, min_samples_split=4, n_estimators=60 \n",
      "[CV]  bootstrap=True, max_depth=40, max_features=2, min_samples_leaf=3, min_samples_split=4, n_estimators=60, total=   1.7s\n",
      "[CV] bootstrap=True, max_depth=40, max_features=2, min_samples_leaf=3, min_samples_split=4, n_estimators=70 \n",
      "[CV]  bootstrap=True, max_depth=40, max_features=2, min_samples_leaf=3, min_samples_split=4, n_estimators=70, total=   1.9s\n",
      "[CV] bootstrap=True, max_depth=40, max_features=2, min_samples_leaf=3, min_samples_split=4, n_estimators=70 \n",
      "[CV]  bootstrap=True, max_depth=40, max_features=2, min_samples_leaf=3, min_samples_split=4, n_estimators=70, total=   2.0s\n",
      "[CV] bootstrap=True, max_depth=40, max_features=2, min_samples_leaf=3, min_samples_split=4, n_estimators=70 \n",
      "[CV]  bootstrap=True, max_depth=40, max_features=2, min_samples_leaf=3, min_samples_split=4, n_estimators=70, total=   2.0s\n",
      "[CV] bootstrap=True, max_depth=40, max_features=2, min_samples_leaf=3, min_samples_split=4, n_estimators=80 \n",
      "[CV]  bootstrap=True, max_depth=40, max_features=2, min_samples_leaf=3, min_samples_split=4, n_estimators=80, total=   2.2s\n",
      "[CV] bootstrap=True, max_depth=40, max_features=2, min_samples_leaf=3, min_samples_split=4, n_estimators=80 \n",
      "[CV]  bootstrap=True, max_depth=40, max_features=2, min_samples_leaf=3, min_samples_split=4, n_estimators=80, total=   2.2s\n",
      "[CV] bootstrap=True, max_depth=40, max_features=2, min_samples_leaf=3, min_samples_split=4, n_estimators=80 \n",
      "[CV]  bootstrap=True, max_depth=40, max_features=2, min_samples_leaf=3, min_samples_split=4, n_estimators=80, total=   2.2s\n",
      "[CV] bootstrap=True, max_depth=40, max_features=2, min_samples_leaf=3, min_samples_split=5, n_estimators=50 \n",
      "[CV]  bootstrap=True, max_depth=40, max_features=2, min_samples_leaf=3, min_samples_split=5, n_estimators=50, total=   1.4s\n",
      "[CV] bootstrap=True, max_depth=40, max_features=2, min_samples_leaf=3, min_samples_split=5, n_estimators=50 \n",
      "[CV]  bootstrap=True, max_depth=40, max_features=2, min_samples_leaf=3, min_samples_split=5, n_estimators=50, total=   1.4s\n",
      "[CV] bootstrap=True, max_depth=40, max_features=2, min_samples_leaf=3, min_samples_split=5, n_estimators=50 \n",
      "[CV]  bootstrap=True, max_depth=40, max_features=2, min_samples_leaf=3, min_samples_split=5, n_estimators=50, total=   1.4s\n",
      "[CV] bootstrap=True, max_depth=40, max_features=2, min_samples_leaf=3, min_samples_split=5, n_estimators=60 \n",
      "[CV]  bootstrap=True, max_depth=40, max_features=2, min_samples_leaf=3, min_samples_split=5, n_estimators=60, total=   1.7s\n",
      "[CV] bootstrap=True, max_depth=40, max_features=2, min_samples_leaf=3, min_samples_split=5, n_estimators=60 \n",
      "[CV]  bootstrap=True, max_depth=40, max_features=2, min_samples_leaf=3, min_samples_split=5, n_estimators=60, total=   1.6s\n",
      "[CV] bootstrap=True, max_depth=40, max_features=2, min_samples_leaf=3, min_samples_split=5, n_estimators=60 \n",
      "[CV]  bootstrap=True, max_depth=40, max_features=2, min_samples_leaf=3, min_samples_split=5, n_estimators=60, total=   1.7s\n",
      "[CV] bootstrap=True, max_depth=40, max_features=2, min_samples_leaf=3, min_samples_split=5, n_estimators=70 \n",
      "[CV]  bootstrap=True, max_depth=40, max_features=2, min_samples_leaf=3, min_samples_split=5, n_estimators=70, total=   1.9s\n",
      "[CV] bootstrap=True, max_depth=40, max_features=2, min_samples_leaf=3, min_samples_split=5, n_estimators=70 \n",
      "[CV]  bootstrap=True, max_depth=40, max_features=2, min_samples_leaf=3, min_samples_split=5, n_estimators=70, total=   1.9s\n",
      "[CV] bootstrap=True, max_depth=40, max_features=2, min_samples_leaf=3, min_samples_split=5, n_estimators=70 \n",
      "[CV]  bootstrap=True, max_depth=40, max_features=2, min_samples_leaf=3, min_samples_split=5, n_estimators=70, total=   1.9s\n",
      "[CV] bootstrap=True, max_depth=40, max_features=2, min_samples_leaf=3, min_samples_split=5, n_estimators=80 \n",
      "[CV]  bootstrap=True, max_depth=40, max_features=2, min_samples_leaf=3, min_samples_split=5, n_estimators=80, total=   2.2s\n",
      "[CV] bootstrap=True, max_depth=40, max_features=2, min_samples_leaf=3, min_samples_split=5, n_estimators=80 \n",
      "[CV]  bootstrap=True, max_depth=40, max_features=2, min_samples_leaf=3, min_samples_split=5, n_estimators=80, total=   2.2s\n",
      "[CV] bootstrap=True, max_depth=40, max_features=2, min_samples_leaf=3, min_samples_split=5, n_estimators=80 \n",
      "[CV]  bootstrap=True, max_depth=40, max_features=2, min_samples_leaf=3, min_samples_split=5, n_estimators=80, total=   2.2s\n",
      "[CV] bootstrap=True, max_depth=40, max_features=2, min_samples_leaf=4, min_samples_split=3, n_estimators=50 \n",
      "[CV]  bootstrap=True, max_depth=40, max_features=2, min_samples_leaf=4, min_samples_split=3, n_estimators=50, total=   1.3s\n",
      "[CV] bootstrap=True, max_depth=40, max_features=2, min_samples_leaf=4, min_samples_split=3, n_estimators=50 \n"
     ]
    },
    {
     "name": "stdout",
     "output_type": "stream",
     "text": [
      "[CV]  bootstrap=True, max_depth=40, max_features=2, min_samples_leaf=4, min_samples_split=3, n_estimators=50, total=   1.3s\n",
      "[CV] bootstrap=True, max_depth=40, max_features=2, min_samples_leaf=4, min_samples_split=3, n_estimators=50 \n",
      "[CV]  bootstrap=True, max_depth=40, max_features=2, min_samples_leaf=4, min_samples_split=3, n_estimators=50, total=   1.3s\n",
      "[CV] bootstrap=True, max_depth=40, max_features=2, min_samples_leaf=4, min_samples_split=3, n_estimators=60 \n",
      "[CV]  bootstrap=True, max_depth=40, max_features=2, min_samples_leaf=4, min_samples_split=3, n_estimators=60, total=   1.6s\n",
      "[CV] bootstrap=True, max_depth=40, max_features=2, min_samples_leaf=4, min_samples_split=3, n_estimators=60 \n",
      "[CV]  bootstrap=True, max_depth=40, max_features=2, min_samples_leaf=4, min_samples_split=3, n_estimators=60, total=   1.6s\n",
      "[CV] bootstrap=True, max_depth=40, max_features=2, min_samples_leaf=4, min_samples_split=3, n_estimators=60 \n",
      "[CV]  bootstrap=True, max_depth=40, max_features=2, min_samples_leaf=4, min_samples_split=3, n_estimators=60, total=   1.6s\n",
      "[CV] bootstrap=True, max_depth=40, max_features=2, min_samples_leaf=4, min_samples_split=3, n_estimators=70 \n",
      "[CV]  bootstrap=True, max_depth=40, max_features=2, min_samples_leaf=4, min_samples_split=3, n_estimators=70, total=   1.8s\n",
      "[CV] bootstrap=True, max_depth=40, max_features=2, min_samples_leaf=4, min_samples_split=3, n_estimators=70 \n",
      "[CV]  bootstrap=True, max_depth=40, max_features=2, min_samples_leaf=4, min_samples_split=3, n_estimators=70, total=   1.8s\n",
      "[CV] bootstrap=True, max_depth=40, max_features=2, min_samples_leaf=4, min_samples_split=3, n_estimators=70 \n",
      "[CV]  bootstrap=True, max_depth=40, max_features=2, min_samples_leaf=4, min_samples_split=3, n_estimators=70, total=   1.9s\n",
      "[CV] bootstrap=True, max_depth=40, max_features=2, min_samples_leaf=4, min_samples_split=3, n_estimators=80 \n",
      "[CV]  bootstrap=True, max_depth=40, max_features=2, min_samples_leaf=4, min_samples_split=3, n_estimators=80, total=   3.7s\n",
      "[CV] bootstrap=True, max_depth=40, max_features=2, min_samples_leaf=4, min_samples_split=3, n_estimators=80 \n",
      "[CV]  bootstrap=True, max_depth=40, max_features=2, min_samples_leaf=4, min_samples_split=3, n_estimators=80, total=   3.3s\n",
      "[CV] bootstrap=True, max_depth=40, max_features=2, min_samples_leaf=4, min_samples_split=3, n_estimators=80 \n",
      "[CV]  bootstrap=True, max_depth=40, max_features=2, min_samples_leaf=4, min_samples_split=3, n_estimators=80, total=   2.1s\n",
      "[CV] bootstrap=True, max_depth=40, max_features=2, min_samples_leaf=4, min_samples_split=4, n_estimators=50 \n",
      "[CV]  bootstrap=True, max_depth=40, max_features=2, min_samples_leaf=4, min_samples_split=4, n_estimators=50, total=   1.3s\n",
      "[CV] bootstrap=True, max_depth=40, max_features=2, min_samples_leaf=4, min_samples_split=4, n_estimators=50 \n",
      "[CV]  bootstrap=True, max_depth=40, max_features=2, min_samples_leaf=4, min_samples_split=4, n_estimators=50, total=   1.3s\n",
      "[CV] bootstrap=True, max_depth=40, max_features=2, min_samples_leaf=4, min_samples_split=4, n_estimators=50 \n",
      "[CV]  bootstrap=True, max_depth=40, max_features=2, min_samples_leaf=4, min_samples_split=4, n_estimators=50, total=   1.3s\n",
      "[CV] bootstrap=True, max_depth=40, max_features=2, min_samples_leaf=4, min_samples_split=4, n_estimators=60 \n",
      "[CV]  bootstrap=True, max_depth=40, max_features=2, min_samples_leaf=4, min_samples_split=4, n_estimators=60, total=   1.6s\n",
      "[CV] bootstrap=True, max_depth=40, max_features=2, min_samples_leaf=4, min_samples_split=4, n_estimators=60 \n",
      "[CV]  bootstrap=True, max_depth=40, max_features=2, min_samples_leaf=4, min_samples_split=4, n_estimators=60, total=   1.5s\n",
      "[CV] bootstrap=True, max_depth=40, max_features=2, min_samples_leaf=4, min_samples_split=4, n_estimators=60 \n",
      "[CV]  bootstrap=True, max_depth=40, max_features=2, min_samples_leaf=4, min_samples_split=4, n_estimators=60, total=   1.6s\n",
      "[CV] bootstrap=True, max_depth=40, max_features=2, min_samples_leaf=4, min_samples_split=4, n_estimators=70 \n",
      "[CV]  bootstrap=True, max_depth=40, max_features=2, min_samples_leaf=4, min_samples_split=4, n_estimators=70, total=   1.8s\n",
      "[CV] bootstrap=True, max_depth=40, max_features=2, min_samples_leaf=4, min_samples_split=4, n_estimators=70 \n",
      "[CV]  bootstrap=True, max_depth=40, max_features=2, min_samples_leaf=4, min_samples_split=4, n_estimators=70, total=   1.8s\n",
      "[CV] bootstrap=True, max_depth=40, max_features=2, min_samples_leaf=4, min_samples_split=4, n_estimators=70 \n",
      "[CV]  bootstrap=True, max_depth=40, max_features=2, min_samples_leaf=4, min_samples_split=4, n_estimators=70, total=   1.9s\n",
      "[CV] bootstrap=True, max_depth=40, max_features=2, min_samples_leaf=4, min_samples_split=4, n_estimators=80 \n",
      "[CV]  bootstrap=True, max_depth=40, max_features=2, min_samples_leaf=4, min_samples_split=4, n_estimators=80, total=   2.1s\n",
      "[CV] bootstrap=True, max_depth=40, max_features=2, min_samples_leaf=4, min_samples_split=4, n_estimators=80 \n",
      "[CV]  bootstrap=True, max_depth=40, max_features=2, min_samples_leaf=4, min_samples_split=4, n_estimators=80, total=   2.1s\n",
      "[CV] bootstrap=True, max_depth=40, max_features=2, min_samples_leaf=4, min_samples_split=4, n_estimators=80 \n",
      "[CV]  bootstrap=True, max_depth=40, max_features=2, min_samples_leaf=4, min_samples_split=4, n_estimators=80, total=   2.1s\n",
      "[CV] bootstrap=True, max_depth=40, max_features=2, min_samples_leaf=4, min_samples_split=5, n_estimators=50 \n",
      "[CV]  bootstrap=True, max_depth=40, max_features=2, min_samples_leaf=4, min_samples_split=5, n_estimators=50, total=   1.3s\n",
      "[CV] bootstrap=True, max_depth=40, max_features=2, min_samples_leaf=4, min_samples_split=5, n_estimators=50 \n",
      "[CV]  bootstrap=True, max_depth=40, max_features=2, min_samples_leaf=4, min_samples_split=5, n_estimators=50, total=   1.3s\n",
      "[CV] bootstrap=True, max_depth=40, max_features=2, min_samples_leaf=4, min_samples_split=5, n_estimators=50 \n",
      "[CV]  bootstrap=True, max_depth=40, max_features=2, min_samples_leaf=4, min_samples_split=5, n_estimators=50, total=   1.3s\n",
      "[CV] bootstrap=True, max_depth=40, max_features=2, min_samples_leaf=4, min_samples_split=5, n_estimators=60 \n",
      "[CV]  bootstrap=True, max_depth=40, max_features=2, min_samples_leaf=4, min_samples_split=5, n_estimators=60, total=   1.6s\n",
      "[CV] bootstrap=True, max_depth=40, max_features=2, min_samples_leaf=4, min_samples_split=5, n_estimators=60 \n",
      "[CV]  bootstrap=True, max_depth=40, max_features=2, min_samples_leaf=4, min_samples_split=5, n_estimators=60, total=   1.6s\n",
      "[CV] bootstrap=True, max_depth=40, max_features=2, min_samples_leaf=4, min_samples_split=5, n_estimators=60 \n",
      "[CV]  bootstrap=True, max_depth=40, max_features=2, min_samples_leaf=4, min_samples_split=5, n_estimators=60, total=   1.6s\n",
      "[CV] bootstrap=True, max_depth=40, max_features=2, min_samples_leaf=4, min_samples_split=5, n_estimators=70 \n",
      "[CV]  bootstrap=True, max_depth=40, max_features=2, min_samples_leaf=4, min_samples_split=5, n_estimators=70, total=   1.9s\n",
      "[CV] bootstrap=True, max_depth=40, max_features=2, min_samples_leaf=4, min_samples_split=5, n_estimators=70 \n",
      "[CV]  bootstrap=True, max_depth=40, max_features=2, min_samples_leaf=4, min_samples_split=5, n_estimators=70, total=   1.8s\n",
      "[CV] bootstrap=True, max_depth=40, max_features=2, min_samples_leaf=4, min_samples_split=5, n_estimators=70 \n",
      "[CV]  bootstrap=True, max_depth=40, max_features=2, min_samples_leaf=4, min_samples_split=5, n_estimators=70, total=   1.8s\n",
      "[CV] bootstrap=True, max_depth=40, max_features=2, min_samples_leaf=4, min_samples_split=5, n_estimators=80 \n",
      "[CV]  bootstrap=True, max_depth=40, max_features=2, min_samples_leaf=4, min_samples_split=5, n_estimators=80, total=   2.1s\n",
      "[CV] bootstrap=True, max_depth=40, max_features=2, min_samples_leaf=4, min_samples_split=5, n_estimators=80 \n",
      "[CV]  bootstrap=True, max_depth=40, max_features=2, min_samples_leaf=4, min_samples_split=5, n_estimators=80, total=   2.1s\n",
      "[CV] bootstrap=True, max_depth=40, max_features=2, min_samples_leaf=4, min_samples_split=5, n_estimators=80 \n",
      "[CV]  bootstrap=True, max_depth=40, max_features=2, min_samples_leaf=4, min_samples_split=5, n_estimators=80, total=   2.1s\n",
      "[CV] bootstrap=True, max_depth=40, max_features=2, min_samples_leaf=5, min_samples_split=3, n_estimators=50 \n",
      "[CV]  bootstrap=True, max_depth=40, max_features=2, min_samples_leaf=5, min_samples_split=3, n_estimators=50, total=   1.3s\n",
      "[CV] bootstrap=True, max_depth=40, max_features=2, min_samples_leaf=5, min_samples_split=3, n_estimators=50 \n"
     ]
    },
    {
     "name": "stdout",
     "output_type": "stream",
     "text": [
      "[CV]  bootstrap=True, max_depth=40, max_features=2, min_samples_leaf=5, min_samples_split=3, n_estimators=50, total=   1.3s\n",
      "[CV] bootstrap=True, max_depth=40, max_features=2, min_samples_leaf=5, min_samples_split=3, n_estimators=50 \n",
      "[CV]  bootstrap=True, max_depth=40, max_features=2, min_samples_leaf=5, min_samples_split=3, n_estimators=50, total=   1.3s\n",
      "[CV] bootstrap=True, max_depth=40, max_features=2, min_samples_leaf=5, min_samples_split=3, n_estimators=60 \n",
      "[CV]  bootstrap=True, max_depth=40, max_features=2, min_samples_leaf=5, min_samples_split=3, n_estimators=60, total=   1.5s\n",
      "[CV] bootstrap=True, max_depth=40, max_features=2, min_samples_leaf=5, min_samples_split=3, n_estimators=60 \n",
      "[CV]  bootstrap=True, max_depth=40, max_features=2, min_samples_leaf=5, min_samples_split=3, n_estimators=60, total=   1.5s\n",
      "[CV] bootstrap=True, max_depth=40, max_features=2, min_samples_leaf=5, min_samples_split=3, n_estimators=60 \n",
      "[CV]  bootstrap=True, max_depth=40, max_features=2, min_samples_leaf=5, min_samples_split=3, n_estimators=60, total=   1.5s\n",
      "[CV] bootstrap=True, max_depth=40, max_features=2, min_samples_leaf=5, min_samples_split=3, n_estimators=70 \n",
      "[CV]  bootstrap=True, max_depth=40, max_features=2, min_samples_leaf=5, min_samples_split=3, n_estimators=70, total=   1.8s\n",
      "[CV] bootstrap=True, max_depth=40, max_features=2, min_samples_leaf=5, min_samples_split=3, n_estimators=70 \n",
      "[CV]  bootstrap=True, max_depth=40, max_features=2, min_samples_leaf=5, min_samples_split=3, n_estimators=70, total=   1.8s\n",
      "[CV] bootstrap=True, max_depth=40, max_features=2, min_samples_leaf=5, min_samples_split=3, n_estimators=70 \n",
      "[CV]  bootstrap=True, max_depth=40, max_features=2, min_samples_leaf=5, min_samples_split=3, n_estimators=70, total=   2.0s\n",
      "[CV] bootstrap=True, max_depth=40, max_features=2, min_samples_leaf=5, min_samples_split=3, n_estimators=80 \n",
      "[CV]  bootstrap=True, max_depth=40, max_features=2, min_samples_leaf=5, min_samples_split=3, n_estimators=80, total=   2.1s\n",
      "[CV] bootstrap=True, max_depth=40, max_features=2, min_samples_leaf=5, min_samples_split=3, n_estimators=80 \n",
      "[CV]  bootstrap=True, max_depth=40, max_features=2, min_samples_leaf=5, min_samples_split=3, n_estimators=80, total=   2.2s\n",
      "[CV] bootstrap=True, max_depth=40, max_features=2, min_samples_leaf=5, min_samples_split=3, n_estimators=80 \n",
      "[CV]  bootstrap=True, max_depth=40, max_features=2, min_samples_leaf=5, min_samples_split=3, n_estimators=80, total=   2.1s\n",
      "[CV] bootstrap=True, max_depth=40, max_features=2, min_samples_leaf=5, min_samples_split=4, n_estimators=50 \n",
      "[CV]  bootstrap=True, max_depth=40, max_features=2, min_samples_leaf=5, min_samples_split=4, n_estimators=50, total=   1.2s\n",
      "[CV] bootstrap=True, max_depth=40, max_features=2, min_samples_leaf=5, min_samples_split=4, n_estimators=50 \n",
      "[CV]  bootstrap=True, max_depth=40, max_features=2, min_samples_leaf=5, min_samples_split=4, n_estimators=50, total=   1.3s\n",
      "[CV] bootstrap=True, max_depth=40, max_features=2, min_samples_leaf=5, min_samples_split=4, n_estimators=50 \n",
      "[CV]  bootstrap=True, max_depth=40, max_features=2, min_samples_leaf=5, min_samples_split=4, n_estimators=50, total=   1.3s\n",
      "[CV] bootstrap=True, max_depth=40, max_features=2, min_samples_leaf=5, min_samples_split=4, n_estimators=60 \n",
      "[CV]  bootstrap=True, max_depth=40, max_features=2, min_samples_leaf=5, min_samples_split=4, n_estimators=60, total=   1.5s\n",
      "[CV] bootstrap=True, max_depth=40, max_features=2, min_samples_leaf=5, min_samples_split=4, n_estimators=60 \n",
      "[CV]  bootstrap=True, max_depth=40, max_features=2, min_samples_leaf=5, min_samples_split=4, n_estimators=60, total=   1.5s\n",
      "[CV] bootstrap=True, max_depth=40, max_features=2, min_samples_leaf=5, min_samples_split=4, n_estimators=60 \n",
      "[CV]  bootstrap=True, max_depth=40, max_features=2, min_samples_leaf=5, min_samples_split=4, n_estimators=60, total=   1.5s\n",
      "[CV] bootstrap=True, max_depth=40, max_features=2, min_samples_leaf=5, min_samples_split=4, n_estimators=70 \n",
      "[CV]  bootstrap=True, max_depth=40, max_features=2, min_samples_leaf=5, min_samples_split=4, n_estimators=70, total=   1.8s\n",
      "[CV] bootstrap=True, max_depth=40, max_features=2, min_samples_leaf=5, min_samples_split=4, n_estimators=70 \n",
      "[CV]  bootstrap=True, max_depth=40, max_features=2, min_samples_leaf=5, min_samples_split=4, n_estimators=70, total=   1.8s\n",
      "[CV] bootstrap=True, max_depth=40, max_features=2, min_samples_leaf=5, min_samples_split=4, n_estimators=70 \n",
      "[CV]  bootstrap=True, max_depth=40, max_features=2, min_samples_leaf=5, min_samples_split=4, n_estimators=70, total=   1.8s\n",
      "[CV] bootstrap=True, max_depth=40, max_features=2, min_samples_leaf=5, min_samples_split=4, n_estimators=80 \n",
      "[CV]  bootstrap=True, max_depth=40, max_features=2, min_samples_leaf=5, min_samples_split=4, n_estimators=80, total=   2.0s\n",
      "[CV] bootstrap=True, max_depth=40, max_features=2, min_samples_leaf=5, min_samples_split=4, n_estimators=80 \n",
      "[CV]  bootstrap=True, max_depth=40, max_features=2, min_samples_leaf=5, min_samples_split=4, n_estimators=80, total=   2.0s\n",
      "[CV] bootstrap=True, max_depth=40, max_features=2, min_samples_leaf=5, min_samples_split=4, n_estimators=80 \n",
      "[CV]  bootstrap=True, max_depth=40, max_features=2, min_samples_leaf=5, min_samples_split=4, n_estimators=80, total=   2.0s\n",
      "[CV] bootstrap=True, max_depth=40, max_features=2, min_samples_leaf=5, min_samples_split=5, n_estimators=50 \n",
      "[CV]  bootstrap=True, max_depth=40, max_features=2, min_samples_leaf=5, min_samples_split=5, n_estimators=50, total=   1.3s\n",
      "[CV] bootstrap=True, max_depth=40, max_features=2, min_samples_leaf=5, min_samples_split=5, n_estimators=50 \n",
      "[CV]  bootstrap=True, max_depth=40, max_features=2, min_samples_leaf=5, min_samples_split=5, n_estimators=50, total=   1.3s\n",
      "[CV] bootstrap=True, max_depth=40, max_features=2, min_samples_leaf=5, min_samples_split=5, n_estimators=50 \n",
      "[CV]  bootstrap=True, max_depth=40, max_features=2, min_samples_leaf=5, min_samples_split=5, n_estimators=50, total=   1.3s\n",
      "[CV] bootstrap=True, max_depth=40, max_features=2, min_samples_leaf=5, min_samples_split=5, n_estimators=60 \n",
      "[CV]  bootstrap=True, max_depth=40, max_features=2, min_samples_leaf=5, min_samples_split=5, n_estimators=60, total=   1.5s\n",
      "[CV] bootstrap=True, max_depth=40, max_features=2, min_samples_leaf=5, min_samples_split=5, n_estimators=60 \n",
      "[CV]  bootstrap=True, max_depth=40, max_features=2, min_samples_leaf=5, min_samples_split=5, n_estimators=60, total=   1.5s\n",
      "[CV] bootstrap=True, max_depth=40, max_features=2, min_samples_leaf=5, min_samples_split=5, n_estimators=60 \n",
      "[CV]  bootstrap=True, max_depth=40, max_features=2, min_samples_leaf=5, min_samples_split=5, n_estimators=60, total=   1.5s\n",
      "[CV] bootstrap=True, max_depth=40, max_features=2, min_samples_leaf=5, min_samples_split=5, n_estimators=70 \n",
      "[CV]  bootstrap=True, max_depth=40, max_features=2, min_samples_leaf=5, min_samples_split=5, n_estimators=70, total=   1.8s\n",
      "[CV] bootstrap=True, max_depth=40, max_features=2, min_samples_leaf=5, min_samples_split=5, n_estimators=70 \n",
      "[CV]  bootstrap=True, max_depth=40, max_features=2, min_samples_leaf=5, min_samples_split=5, n_estimators=70, total=   1.8s\n",
      "[CV] bootstrap=True, max_depth=40, max_features=2, min_samples_leaf=5, min_samples_split=5, n_estimators=70 \n",
      "[CV]  bootstrap=True, max_depth=40, max_features=2, min_samples_leaf=5, min_samples_split=5, n_estimators=70, total=   1.8s\n",
      "[CV] bootstrap=True, max_depth=40, max_features=2, min_samples_leaf=5, min_samples_split=5, n_estimators=80 \n",
      "[CV]  bootstrap=True, max_depth=40, max_features=2, min_samples_leaf=5, min_samples_split=5, n_estimators=80, total=   2.0s\n",
      "[CV] bootstrap=True, max_depth=40, max_features=2, min_samples_leaf=5, min_samples_split=5, n_estimators=80 \n",
      "[CV]  bootstrap=True, max_depth=40, max_features=2, min_samples_leaf=5, min_samples_split=5, n_estimators=80, total=   2.0s\n",
      "[CV] bootstrap=True, max_depth=40, max_features=2, min_samples_leaf=5, min_samples_split=5, n_estimators=80 \n",
      "[CV]  bootstrap=True, max_depth=40, max_features=2, min_samples_leaf=5, min_samples_split=5, n_estimators=80, total=   2.0s\n",
      "[CV] bootstrap=True, max_depth=40, max_features=3, min_samples_leaf=3, min_samples_split=3, n_estimators=50 \n",
      "[CV]  bootstrap=True, max_depth=40, max_features=3, min_samples_leaf=3, min_samples_split=3, n_estimators=50, total=   1.6s\n",
      "[CV] bootstrap=True, max_depth=40, max_features=3, min_samples_leaf=3, min_samples_split=3, n_estimators=50 \n"
     ]
    },
    {
     "name": "stdout",
     "output_type": "stream",
     "text": [
      "[CV]  bootstrap=True, max_depth=40, max_features=3, min_samples_leaf=3, min_samples_split=3, n_estimators=50, total=   1.7s\n",
      "[CV] bootstrap=True, max_depth=40, max_features=3, min_samples_leaf=3, min_samples_split=3, n_estimators=50 \n",
      "[CV]  bootstrap=True, max_depth=40, max_features=3, min_samples_leaf=3, min_samples_split=3, n_estimators=50, total=   1.7s\n",
      "[CV] bootstrap=True, max_depth=40, max_features=3, min_samples_leaf=3, min_samples_split=3, n_estimators=60 \n",
      "[CV]  bootstrap=True, max_depth=40, max_features=3, min_samples_leaf=3, min_samples_split=3, n_estimators=60, total=   2.0s\n",
      "[CV] bootstrap=True, max_depth=40, max_features=3, min_samples_leaf=3, min_samples_split=3, n_estimators=60 \n",
      "[CV]  bootstrap=True, max_depth=40, max_features=3, min_samples_leaf=3, min_samples_split=3, n_estimators=60, total=   2.0s\n",
      "[CV] bootstrap=True, max_depth=40, max_features=3, min_samples_leaf=3, min_samples_split=3, n_estimators=60 \n",
      "[CV]  bootstrap=True, max_depth=40, max_features=3, min_samples_leaf=3, min_samples_split=3, n_estimators=60, total=   2.0s\n",
      "[CV] bootstrap=True, max_depth=40, max_features=3, min_samples_leaf=3, min_samples_split=3, n_estimators=70 \n",
      "[CV]  bootstrap=True, max_depth=40, max_features=3, min_samples_leaf=3, min_samples_split=3, n_estimators=70, total=   2.3s\n",
      "[CV] bootstrap=True, max_depth=40, max_features=3, min_samples_leaf=3, min_samples_split=3, n_estimators=70 \n",
      "[CV]  bootstrap=True, max_depth=40, max_features=3, min_samples_leaf=3, min_samples_split=3, n_estimators=70, total=   2.3s\n",
      "[CV] bootstrap=True, max_depth=40, max_features=3, min_samples_leaf=3, min_samples_split=3, n_estimators=70 \n",
      "[CV]  bootstrap=True, max_depth=40, max_features=3, min_samples_leaf=3, min_samples_split=3, n_estimators=70, total=   2.3s\n",
      "[CV] bootstrap=True, max_depth=40, max_features=3, min_samples_leaf=3, min_samples_split=3, n_estimators=80 \n",
      "[CV]  bootstrap=True, max_depth=40, max_features=3, min_samples_leaf=3, min_samples_split=3, n_estimators=80, total=   2.7s\n",
      "[CV] bootstrap=True, max_depth=40, max_features=3, min_samples_leaf=3, min_samples_split=3, n_estimators=80 \n",
      "[CV]  bootstrap=True, max_depth=40, max_features=3, min_samples_leaf=3, min_samples_split=3, n_estimators=80, total=   2.6s\n",
      "[CV] bootstrap=True, max_depth=40, max_features=3, min_samples_leaf=3, min_samples_split=3, n_estimators=80 \n",
      "[CV]  bootstrap=True, max_depth=40, max_features=3, min_samples_leaf=3, min_samples_split=3, n_estimators=80, total=   2.6s\n",
      "[CV] bootstrap=True, max_depth=40, max_features=3, min_samples_leaf=3, min_samples_split=4, n_estimators=50 \n",
      "[CV]  bootstrap=True, max_depth=40, max_features=3, min_samples_leaf=3, min_samples_split=4, n_estimators=50, total=   1.6s\n",
      "[CV] bootstrap=True, max_depth=40, max_features=3, min_samples_leaf=3, min_samples_split=4, n_estimators=50 \n",
      "[CV]  bootstrap=True, max_depth=40, max_features=3, min_samples_leaf=3, min_samples_split=4, n_estimators=50, total=   1.6s\n",
      "[CV] bootstrap=True, max_depth=40, max_features=3, min_samples_leaf=3, min_samples_split=4, n_estimators=50 \n",
      "[CV]  bootstrap=True, max_depth=40, max_features=3, min_samples_leaf=3, min_samples_split=4, n_estimators=50, total=   1.7s\n",
      "[CV] bootstrap=True, max_depth=40, max_features=3, min_samples_leaf=3, min_samples_split=4, n_estimators=60 \n",
      "[CV]  bootstrap=True, max_depth=40, max_features=3, min_samples_leaf=3, min_samples_split=4, n_estimators=60, total=   2.0s\n",
      "[CV] bootstrap=True, max_depth=40, max_features=3, min_samples_leaf=3, min_samples_split=4, n_estimators=60 \n",
      "[CV]  bootstrap=True, max_depth=40, max_features=3, min_samples_leaf=3, min_samples_split=4, n_estimators=60, total=   2.0s\n",
      "[CV] bootstrap=True, max_depth=40, max_features=3, min_samples_leaf=3, min_samples_split=4, n_estimators=60 \n",
      "[CV]  bootstrap=True, max_depth=40, max_features=3, min_samples_leaf=3, min_samples_split=4, n_estimators=60, total=   2.0s\n",
      "[CV] bootstrap=True, max_depth=40, max_features=3, min_samples_leaf=3, min_samples_split=4, n_estimators=70 \n",
      "[CV]  bootstrap=True, max_depth=40, max_features=3, min_samples_leaf=3, min_samples_split=4, n_estimators=70, total=   2.3s\n",
      "[CV] bootstrap=True, max_depth=40, max_features=3, min_samples_leaf=3, min_samples_split=4, n_estimators=70 \n",
      "[CV]  bootstrap=True, max_depth=40, max_features=3, min_samples_leaf=3, min_samples_split=4, n_estimators=70, total=   2.3s\n",
      "[CV] bootstrap=True, max_depth=40, max_features=3, min_samples_leaf=3, min_samples_split=4, n_estimators=70 \n",
      "[CV]  bootstrap=True, max_depth=40, max_features=3, min_samples_leaf=3, min_samples_split=4, n_estimators=70, total=   2.3s\n",
      "[CV] bootstrap=True, max_depth=40, max_features=3, min_samples_leaf=3, min_samples_split=4, n_estimators=80 \n",
      "[CV]  bootstrap=True, max_depth=40, max_features=3, min_samples_leaf=3, min_samples_split=4, n_estimators=80, total=   2.7s\n",
      "[CV] bootstrap=True, max_depth=40, max_features=3, min_samples_leaf=3, min_samples_split=4, n_estimators=80 \n",
      "[CV]  bootstrap=True, max_depth=40, max_features=3, min_samples_leaf=3, min_samples_split=4, n_estimators=80, total=   2.6s\n",
      "[CV] bootstrap=True, max_depth=40, max_features=3, min_samples_leaf=3, min_samples_split=4, n_estimators=80 \n",
      "[CV]  bootstrap=True, max_depth=40, max_features=3, min_samples_leaf=3, min_samples_split=4, n_estimators=80, total=   2.6s\n",
      "[CV] bootstrap=True, max_depth=40, max_features=3, min_samples_leaf=3, min_samples_split=5, n_estimators=50 \n",
      "[CV]  bootstrap=True, max_depth=40, max_features=3, min_samples_leaf=3, min_samples_split=5, n_estimators=50, total=   1.6s\n",
      "[CV] bootstrap=True, max_depth=40, max_features=3, min_samples_leaf=3, min_samples_split=5, n_estimators=50 \n",
      "[CV]  bootstrap=True, max_depth=40, max_features=3, min_samples_leaf=3, min_samples_split=5, n_estimators=50, total=   1.6s\n",
      "[CV] bootstrap=True, max_depth=40, max_features=3, min_samples_leaf=3, min_samples_split=5, n_estimators=50 \n",
      "[CV]  bootstrap=True, max_depth=40, max_features=3, min_samples_leaf=3, min_samples_split=5, n_estimators=50, total=   1.7s\n",
      "[CV] bootstrap=True, max_depth=40, max_features=3, min_samples_leaf=3, min_samples_split=5, n_estimators=60 \n",
      "[CV]  bootstrap=True, max_depth=40, max_features=3, min_samples_leaf=3, min_samples_split=5, n_estimators=60, total=   2.0s\n",
      "[CV] bootstrap=True, max_depth=40, max_features=3, min_samples_leaf=3, min_samples_split=5, n_estimators=60 \n",
      "[CV]  bootstrap=True, max_depth=40, max_features=3, min_samples_leaf=3, min_samples_split=5, n_estimators=60, total=   2.0s\n",
      "[CV] bootstrap=True, max_depth=40, max_features=3, min_samples_leaf=3, min_samples_split=5, n_estimators=60 \n",
      "[CV]  bootstrap=True, max_depth=40, max_features=3, min_samples_leaf=3, min_samples_split=5, n_estimators=60, total=   2.0s\n",
      "[CV] bootstrap=True, max_depth=40, max_features=3, min_samples_leaf=3, min_samples_split=5, n_estimators=70 \n",
      "[CV]  bootstrap=True, max_depth=40, max_features=3, min_samples_leaf=3, min_samples_split=5, n_estimators=70, total=   2.3s\n",
      "[CV] bootstrap=True, max_depth=40, max_features=3, min_samples_leaf=3, min_samples_split=5, n_estimators=70 \n",
      "[CV]  bootstrap=True, max_depth=40, max_features=3, min_samples_leaf=3, min_samples_split=5, n_estimators=70, total=   2.3s\n",
      "[CV] bootstrap=True, max_depth=40, max_features=3, min_samples_leaf=3, min_samples_split=5, n_estimators=70 \n",
      "[CV]  bootstrap=True, max_depth=40, max_features=3, min_samples_leaf=3, min_samples_split=5, n_estimators=70, total=   2.3s\n",
      "[CV] bootstrap=True, max_depth=40, max_features=3, min_samples_leaf=3, min_samples_split=5, n_estimators=80 \n",
      "[CV]  bootstrap=True, max_depth=40, max_features=3, min_samples_leaf=3, min_samples_split=5, n_estimators=80, total=   2.6s\n",
      "[CV] bootstrap=True, max_depth=40, max_features=3, min_samples_leaf=3, min_samples_split=5, n_estimators=80 \n",
      "[CV]  bootstrap=True, max_depth=40, max_features=3, min_samples_leaf=3, min_samples_split=5, n_estimators=80, total=   2.6s\n",
      "[CV] bootstrap=True, max_depth=40, max_features=3, min_samples_leaf=3, min_samples_split=5, n_estimators=80 \n",
      "[CV]  bootstrap=True, max_depth=40, max_features=3, min_samples_leaf=3, min_samples_split=5, n_estimators=80, total=   2.6s\n",
      "[CV] bootstrap=True, max_depth=40, max_features=3, min_samples_leaf=4, min_samples_split=3, n_estimators=50 \n",
      "[CV]  bootstrap=True, max_depth=40, max_features=3, min_samples_leaf=4, min_samples_split=3, n_estimators=50, total=   1.6s\n",
      "[CV] bootstrap=True, max_depth=40, max_features=3, min_samples_leaf=4, min_samples_split=3, n_estimators=50 \n"
     ]
    },
    {
     "name": "stdout",
     "output_type": "stream",
     "text": [
      "[CV]  bootstrap=True, max_depth=40, max_features=3, min_samples_leaf=4, min_samples_split=3, n_estimators=50, total=   1.6s\n",
      "[CV] bootstrap=True, max_depth=40, max_features=3, min_samples_leaf=4, min_samples_split=3, n_estimators=50 \n",
      "[CV]  bootstrap=True, max_depth=40, max_features=3, min_samples_leaf=4, min_samples_split=3, n_estimators=50, total=   1.6s\n",
      "[CV] bootstrap=True, max_depth=40, max_features=3, min_samples_leaf=4, min_samples_split=3, n_estimators=60 \n",
      "[CV]  bootstrap=True, max_depth=40, max_features=3, min_samples_leaf=4, min_samples_split=3, n_estimators=60, total=   1.9s\n",
      "[CV] bootstrap=True, max_depth=40, max_features=3, min_samples_leaf=4, min_samples_split=3, n_estimators=60 \n",
      "[CV]  bootstrap=True, max_depth=40, max_features=3, min_samples_leaf=4, min_samples_split=3, n_estimators=60, total=   1.9s\n",
      "[CV] bootstrap=True, max_depth=40, max_features=3, min_samples_leaf=4, min_samples_split=3, n_estimators=60 \n",
      "[CV]  bootstrap=True, max_depth=40, max_features=3, min_samples_leaf=4, min_samples_split=3, n_estimators=60, total=   2.1s\n",
      "[CV] bootstrap=True, max_depth=40, max_features=3, min_samples_leaf=4, min_samples_split=3, n_estimators=70 \n",
      "[CV]  bootstrap=True, max_depth=40, max_features=3, min_samples_leaf=4, min_samples_split=3, n_estimators=70, total=   2.2s\n",
      "[CV] bootstrap=True, max_depth=40, max_features=3, min_samples_leaf=4, min_samples_split=3, n_estimators=70 \n",
      "[CV]  bootstrap=True, max_depth=40, max_features=3, min_samples_leaf=4, min_samples_split=3, n_estimators=70, total=   2.2s\n",
      "[CV] bootstrap=True, max_depth=40, max_features=3, min_samples_leaf=4, min_samples_split=3, n_estimators=70 \n",
      "[CV]  bootstrap=True, max_depth=40, max_features=3, min_samples_leaf=4, min_samples_split=3, n_estimators=70, total=   2.2s\n",
      "[CV] bootstrap=True, max_depth=40, max_features=3, min_samples_leaf=4, min_samples_split=3, n_estimators=80 \n",
      "[CV]  bootstrap=True, max_depth=40, max_features=3, min_samples_leaf=4, min_samples_split=3, n_estimators=80, total=   2.5s\n",
      "[CV] bootstrap=True, max_depth=40, max_features=3, min_samples_leaf=4, min_samples_split=3, n_estimators=80 \n",
      "[CV]  bootstrap=True, max_depth=40, max_features=3, min_samples_leaf=4, min_samples_split=3, n_estimators=80, total=   2.5s\n",
      "[CV] bootstrap=True, max_depth=40, max_features=3, min_samples_leaf=4, min_samples_split=3, n_estimators=80 \n",
      "[CV]  bootstrap=True, max_depth=40, max_features=3, min_samples_leaf=4, min_samples_split=3, n_estimators=80, total=   2.5s\n",
      "[CV] bootstrap=True, max_depth=40, max_features=3, min_samples_leaf=4, min_samples_split=4, n_estimators=50 \n",
      "[CV]  bootstrap=True, max_depth=40, max_features=3, min_samples_leaf=4, min_samples_split=4, n_estimators=50, total=   1.6s\n",
      "[CV] bootstrap=True, max_depth=40, max_features=3, min_samples_leaf=4, min_samples_split=4, n_estimators=50 \n",
      "[CV]  bootstrap=True, max_depth=40, max_features=3, min_samples_leaf=4, min_samples_split=4, n_estimators=50, total=   1.5s\n",
      "[CV] bootstrap=True, max_depth=40, max_features=3, min_samples_leaf=4, min_samples_split=4, n_estimators=50 \n",
      "[CV]  bootstrap=True, max_depth=40, max_features=3, min_samples_leaf=4, min_samples_split=4, n_estimators=50, total=   1.6s\n",
      "[CV] bootstrap=True, max_depth=40, max_features=3, min_samples_leaf=4, min_samples_split=4, n_estimators=60 \n",
      "[CV]  bootstrap=True, max_depth=40, max_features=3, min_samples_leaf=4, min_samples_split=4, n_estimators=60, total=   1.9s\n",
      "[CV] bootstrap=True, max_depth=40, max_features=3, min_samples_leaf=4, min_samples_split=4, n_estimators=60 \n",
      "[CV]  bootstrap=True, max_depth=40, max_features=3, min_samples_leaf=4, min_samples_split=4, n_estimators=60, total=   1.9s\n",
      "[CV] bootstrap=True, max_depth=40, max_features=3, min_samples_leaf=4, min_samples_split=4, n_estimators=60 \n",
      "[CV]  bootstrap=True, max_depth=40, max_features=3, min_samples_leaf=4, min_samples_split=4, n_estimators=60, total=   1.9s\n",
      "[CV] bootstrap=True, max_depth=40, max_features=3, min_samples_leaf=4, min_samples_split=4, n_estimators=70 \n",
      "[CV]  bootstrap=True, max_depth=40, max_features=3, min_samples_leaf=4, min_samples_split=4, n_estimators=70, total=   2.2s\n",
      "[CV] bootstrap=True, max_depth=40, max_features=3, min_samples_leaf=4, min_samples_split=4, n_estimators=70 \n",
      "[CV]  bootstrap=True, max_depth=40, max_features=3, min_samples_leaf=4, min_samples_split=4, n_estimators=70, total=   2.2s\n",
      "[CV] bootstrap=True, max_depth=40, max_features=3, min_samples_leaf=4, min_samples_split=4, n_estimators=70 \n",
      "[CV]  bootstrap=True, max_depth=40, max_features=3, min_samples_leaf=4, min_samples_split=4, n_estimators=70, total=   2.2s\n",
      "[CV] bootstrap=True, max_depth=40, max_features=3, min_samples_leaf=4, min_samples_split=4, n_estimators=80 \n",
      "[CV]  bootstrap=True, max_depth=40, max_features=3, min_samples_leaf=4, min_samples_split=4, n_estimators=80, total=   2.5s\n",
      "[CV] bootstrap=True, max_depth=40, max_features=3, min_samples_leaf=4, min_samples_split=4, n_estimators=80 \n",
      "[CV]  bootstrap=True, max_depth=40, max_features=3, min_samples_leaf=4, min_samples_split=4, n_estimators=80, total=   2.5s\n",
      "[CV] bootstrap=True, max_depth=40, max_features=3, min_samples_leaf=4, min_samples_split=4, n_estimators=80 \n",
      "[CV]  bootstrap=True, max_depth=40, max_features=3, min_samples_leaf=4, min_samples_split=4, n_estimators=80, total=   2.5s\n",
      "[CV] bootstrap=True, max_depth=40, max_features=3, min_samples_leaf=4, min_samples_split=5, n_estimators=50 \n",
      "[CV]  bootstrap=True, max_depth=40, max_features=3, min_samples_leaf=4, min_samples_split=5, n_estimators=50, total=   1.6s\n",
      "[CV] bootstrap=True, max_depth=40, max_features=3, min_samples_leaf=4, min_samples_split=5, n_estimators=50 \n",
      "[CV]  bootstrap=True, max_depth=40, max_features=3, min_samples_leaf=4, min_samples_split=5, n_estimators=50, total=   1.6s\n",
      "[CV] bootstrap=True, max_depth=40, max_features=3, min_samples_leaf=4, min_samples_split=5, n_estimators=50 \n",
      "[CV]  bootstrap=True, max_depth=40, max_features=3, min_samples_leaf=4, min_samples_split=5, n_estimators=50, total=   1.6s\n",
      "[CV] bootstrap=True, max_depth=40, max_features=3, min_samples_leaf=4, min_samples_split=5, n_estimators=60 \n",
      "[CV]  bootstrap=True, max_depth=40, max_features=3, min_samples_leaf=4, min_samples_split=5, n_estimators=60, total=   1.9s\n",
      "[CV] bootstrap=True, max_depth=40, max_features=3, min_samples_leaf=4, min_samples_split=5, n_estimators=60 \n",
      "[CV]  bootstrap=True, max_depth=40, max_features=3, min_samples_leaf=4, min_samples_split=5, n_estimators=60, total=   1.9s\n",
      "[CV] bootstrap=True, max_depth=40, max_features=3, min_samples_leaf=4, min_samples_split=5, n_estimators=60 \n",
      "[CV]  bootstrap=True, max_depth=40, max_features=3, min_samples_leaf=4, min_samples_split=5, n_estimators=60, total=   1.9s\n",
      "[CV] bootstrap=True, max_depth=40, max_features=3, min_samples_leaf=4, min_samples_split=5, n_estimators=70 \n",
      "[CV]  bootstrap=True, max_depth=40, max_features=3, min_samples_leaf=4, min_samples_split=5, n_estimators=70, total=   2.2s\n",
      "[CV] bootstrap=True, max_depth=40, max_features=3, min_samples_leaf=4, min_samples_split=5, n_estimators=70 \n",
      "[CV]  bootstrap=True, max_depth=40, max_features=3, min_samples_leaf=4, min_samples_split=5, n_estimators=70, total=   2.2s\n",
      "[CV] bootstrap=True, max_depth=40, max_features=3, min_samples_leaf=4, min_samples_split=5, n_estimators=70 \n",
      "[CV]  bootstrap=True, max_depth=40, max_features=3, min_samples_leaf=4, min_samples_split=5, n_estimators=70, total=   2.2s\n",
      "[CV] bootstrap=True, max_depth=40, max_features=3, min_samples_leaf=4, min_samples_split=5, n_estimators=80 \n",
      "[CV]  bootstrap=True, max_depth=40, max_features=3, min_samples_leaf=4, min_samples_split=5, n_estimators=80, total=   2.6s\n",
      "[CV] bootstrap=True, max_depth=40, max_features=3, min_samples_leaf=4, min_samples_split=5, n_estimators=80 \n",
      "[CV]  bootstrap=True, max_depth=40, max_features=3, min_samples_leaf=4, min_samples_split=5, n_estimators=80, total=   2.5s\n",
      "[CV] bootstrap=True, max_depth=40, max_features=3, min_samples_leaf=4, min_samples_split=5, n_estimators=80 \n",
      "[CV]  bootstrap=True, max_depth=40, max_features=3, min_samples_leaf=4, min_samples_split=5, n_estimators=80, total=   2.5s\n",
      "[CV] bootstrap=True, max_depth=40, max_features=3, min_samples_leaf=5, min_samples_split=3, n_estimators=50 \n",
      "[CV]  bootstrap=True, max_depth=40, max_features=3, min_samples_leaf=5, min_samples_split=3, n_estimators=50, total=   1.5s\n",
      "[CV] bootstrap=True, max_depth=40, max_features=3, min_samples_leaf=5, min_samples_split=3, n_estimators=50 \n"
     ]
    },
    {
     "name": "stdout",
     "output_type": "stream",
     "text": [
      "[CV]  bootstrap=True, max_depth=40, max_features=3, min_samples_leaf=5, min_samples_split=3, n_estimators=50, total=   1.5s\n",
      "[CV] bootstrap=True, max_depth=40, max_features=3, min_samples_leaf=5, min_samples_split=3, n_estimators=50 \n",
      "[CV]  bootstrap=True, max_depth=40, max_features=3, min_samples_leaf=5, min_samples_split=3, n_estimators=50, total=   1.5s\n",
      "[CV] bootstrap=True, max_depth=40, max_features=3, min_samples_leaf=5, min_samples_split=3, n_estimators=60 \n",
      "[CV]  bootstrap=True, max_depth=40, max_features=3, min_samples_leaf=5, min_samples_split=3, n_estimators=60, total=   1.8s\n",
      "[CV] bootstrap=True, max_depth=40, max_features=3, min_samples_leaf=5, min_samples_split=3, n_estimators=60 \n",
      "[CV]  bootstrap=True, max_depth=40, max_features=3, min_samples_leaf=5, min_samples_split=3, n_estimators=60, total=   1.8s\n",
      "[CV] bootstrap=True, max_depth=40, max_features=3, min_samples_leaf=5, min_samples_split=3, n_estimators=60 \n",
      "[CV]  bootstrap=True, max_depth=40, max_features=3, min_samples_leaf=5, min_samples_split=3, n_estimators=60, total=   1.8s\n",
      "[CV] bootstrap=True, max_depth=40, max_features=3, min_samples_leaf=5, min_samples_split=3, n_estimators=70 \n",
      "[CV]  bootstrap=True, max_depth=40, max_features=3, min_samples_leaf=5, min_samples_split=3, n_estimators=70, total=   2.1s\n",
      "[CV] bootstrap=True, max_depth=40, max_features=3, min_samples_leaf=5, min_samples_split=3, n_estimators=70 \n",
      "[CV]  bootstrap=True, max_depth=40, max_features=3, min_samples_leaf=5, min_samples_split=3, n_estimators=70, total=   2.1s\n",
      "[CV] bootstrap=True, max_depth=40, max_features=3, min_samples_leaf=5, min_samples_split=3, n_estimators=70 \n",
      "[CV]  bootstrap=True, max_depth=40, max_features=3, min_samples_leaf=5, min_samples_split=3, n_estimators=70, total=   2.1s\n",
      "[CV] bootstrap=True, max_depth=40, max_features=3, min_samples_leaf=5, min_samples_split=3, n_estimators=80 \n",
      "[CV]  bootstrap=True, max_depth=40, max_features=3, min_samples_leaf=5, min_samples_split=3, n_estimators=80, total=   2.4s\n",
      "[CV] bootstrap=True, max_depth=40, max_features=3, min_samples_leaf=5, min_samples_split=3, n_estimators=80 \n",
      "[CV]  bootstrap=True, max_depth=40, max_features=3, min_samples_leaf=5, min_samples_split=3, n_estimators=80, total=   2.4s\n",
      "[CV] bootstrap=True, max_depth=40, max_features=3, min_samples_leaf=5, min_samples_split=3, n_estimators=80 \n",
      "[CV]  bootstrap=True, max_depth=40, max_features=3, min_samples_leaf=5, min_samples_split=3, n_estimators=80, total=   2.4s\n",
      "[CV] bootstrap=True, max_depth=40, max_features=3, min_samples_leaf=5, min_samples_split=4, n_estimators=50 \n",
      "[CV]  bootstrap=True, max_depth=40, max_features=3, min_samples_leaf=5, min_samples_split=4, n_estimators=50, total=   1.5s\n",
      "[CV] bootstrap=True, max_depth=40, max_features=3, min_samples_leaf=5, min_samples_split=4, n_estimators=50 \n",
      "[CV]  bootstrap=True, max_depth=40, max_features=3, min_samples_leaf=5, min_samples_split=4, n_estimators=50, total=   1.5s\n",
      "[CV] bootstrap=True, max_depth=40, max_features=3, min_samples_leaf=5, min_samples_split=4, n_estimators=50 \n",
      "[CV]  bootstrap=True, max_depth=40, max_features=3, min_samples_leaf=5, min_samples_split=4, n_estimators=50, total=   1.5s\n",
      "[CV] bootstrap=True, max_depth=40, max_features=3, min_samples_leaf=5, min_samples_split=4, n_estimators=60 \n",
      "[CV]  bootstrap=True, max_depth=40, max_features=3, min_samples_leaf=5, min_samples_split=4, n_estimators=60, total=   1.9s\n",
      "[CV] bootstrap=True, max_depth=40, max_features=3, min_samples_leaf=5, min_samples_split=4, n_estimators=60 \n",
      "[CV]  bootstrap=True, max_depth=40, max_features=3, min_samples_leaf=5, min_samples_split=4, n_estimators=60, total=   1.9s\n",
      "[CV] bootstrap=True, max_depth=40, max_features=3, min_samples_leaf=5, min_samples_split=4, n_estimators=60 \n",
      "[CV]  bootstrap=True, max_depth=40, max_features=3, min_samples_leaf=5, min_samples_split=4, n_estimators=60, total=   2.0s\n",
      "[CV] bootstrap=True, max_depth=40, max_features=3, min_samples_leaf=5, min_samples_split=4, n_estimators=70 \n",
      "[CV]  bootstrap=True, max_depth=40, max_features=3, min_samples_leaf=5, min_samples_split=4, n_estimators=70, total=   2.2s\n",
      "[CV] bootstrap=True, max_depth=40, max_features=3, min_samples_leaf=5, min_samples_split=4, n_estimators=70 \n",
      "[CV]  bootstrap=True, max_depth=40, max_features=3, min_samples_leaf=5, min_samples_split=4, n_estimators=70, total=   2.1s\n",
      "[CV] bootstrap=True, max_depth=40, max_features=3, min_samples_leaf=5, min_samples_split=4, n_estimators=70 \n",
      "[CV]  bootstrap=True, max_depth=40, max_features=3, min_samples_leaf=5, min_samples_split=4, n_estimators=70, total=   2.1s\n",
      "[CV] bootstrap=True, max_depth=40, max_features=3, min_samples_leaf=5, min_samples_split=4, n_estimators=80 \n",
      "[CV]  bootstrap=True, max_depth=40, max_features=3, min_samples_leaf=5, min_samples_split=4, n_estimators=80, total=   2.4s\n",
      "[CV] bootstrap=True, max_depth=40, max_features=3, min_samples_leaf=5, min_samples_split=4, n_estimators=80 \n",
      "[CV]  bootstrap=True, max_depth=40, max_features=3, min_samples_leaf=5, min_samples_split=4, n_estimators=80, total=   2.4s\n",
      "[CV] bootstrap=True, max_depth=40, max_features=3, min_samples_leaf=5, min_samples_split=4, n_estimators=80 \n",
      "[CV]  bootstrap=True, max_depth=40, max_features=3, min_samples_leaf=5, min_samples_split=4, n_estimators=80, total=   2.4s\n",
      "[CV] bootstrap=True, max_depth=40, max_features=3, min_samples_leaf=5, min_samples_split=5, n_estimators=50 \n",
      "[CV]  bootstrap=True, max_depth=40, max_features=3, min_samples_leaf=5, min_samples_split=5, n_estimators=50, total=   1.5s\n",
      "[CV] bootstrap=True, max_depth=40, max_features=3, min_samples_leaf=5, min_samples_split=5, n_estimators=50 \n",
      "[CV]  bootstrap=True, max_depth=40, max_features=3, min_samples_leaf=5, min_samples_split=5, n_estimators=50, total=   1.5s\n",
      "[CV] bootstrap=True, max_depth=40, max_features=3, min_samples_leaf=5, min_samples_split=5, n_estimators=50 \n",
      "[CV]  bootstrap=True, max_depth=40, max_features=3, min_samples_leaf=5, min_samples_split=5, n_estimators=50, total=   1.6s\n",
      "[CV] bootstrap=True, max_depth=40, max_features=3, min_samples_leaf=5, min_samples_split=5, n_estimators=60 \n",
      "[CV]  bootstrap=True, max_depth=40, max_features=3, min_samples_leaf=5, min_samples_split=5, n_estimators=60, total=   1.9s\n",
      "[CV] bootstrap=True, max_depth=40, max_features=3, min_samples_leaf=5, min_samples_split=5, n_estimators=60 \n",
      "[CV]  bootstrap=True, max_depth=40, max_features=3, min_samples_leaf=5, min_samples_split=5, n_estimators=60, total=   1.8s\n",
      "[CV] bootstrap=True, max_depth=40, max_features=3, min_samples_leaf=5, min_samples_split=5, n_estimators=60 \n",
      "[CV]  bootstrap=True, max_depth=40, max_features=3, min_samples_leaf=5, min_samples_split=5, n_estimators=60, total=   1.8s\n",
      "[CV] bootstrap=True, max_depth=40, max_features=3, min_samples_leaf=5, min_samples_split=5, n_estimators=70 \n",
      "[CV]  bootstrap=True, max_depth=40, max_features=3, min_samples_leaf=5, min_samples_split=5, n_estimators=70, total=   2.1s\n",
      "[CV] bootstrap=True, max_depth=40, max_features=3, min_samples_leaf=5, min_samples_split=5, n_estimators=70 \n",
      "[CV]  bootstrap=True, max_depth=40, max_features=3, min_samples_leaf=5, min_samples_split=5, n_estimators=70, total=   2.1s\n",
      "[CV] bootstrap=True, max_depth=40, max_features=3, min_samples_leaf=5, min_samples_split=5, n_estimators=70 \n",
      "[CV]  bootstrap=True, max_depth=40, max_features=3, min_samples_leaf=5, min_samples_split=5, n_estimators=70, total=   2.2s\n",
      "[CV] bootstrap=True, max_depth=40, max_features=3, min_samples_leaf=5, min_samples_split=5, n_estimators=80 \n",
      "[CV]  bootstrap=True, max_depth=40, max_features=3, min_samples_leaf=5, min_samples_split=5, n_estimators=80, total=   2.4s\n",
      "[CV] bootstrap=True, max_depth=40, max_features=3, min_samples_leaf=5, min_samples_split=5, n_estimators=80 \n",
      "[CV]  bootstrap=True, max_depth=40, max_features=3, min_samples_leaf=5, min_samples_split=5, n_estimators=80, total=   2.4s\n",
      "[CV] bootstrap=True, max_depth=40, max_features=3, min_samples_leaf=5, min_samples_split=5, n_estimators=80 \n",
      "[CV]  bootstrap=True, max_depth=40, max_features=3, min_samples_leaf=5, min_samples_split=5, n_estimators=80, total=   2.4s\n",
      "[CV] bootstrap=True, max_depth=45, max_features=2, min_samples_leaf=3, min_samples_split=3, n_estimators=50 \n",
      "[CV]  bootstrap=True, max_depth=45, max_features=2, min_samples_leaf=3, min_samples_split=3, n_estimators=50, total=   1.4s\n",
      "[CV] bootstrap=True, max_depth=45, max_features=2, min_samples_leaf=3, min_samples_split=3, n_estimators=50 \n"
     ]
    },
    {
     "name": "stdout",
     "output_type": "stream",
     "text": [
      "[CV]  bootstrap=True, max_depth=45, max_features=2, min_samples_leaf=3, min_samples_split=3, n_estimators=50, total=   1.4s\n",
      "[CV] bootstrap=True, max_depth=45, max_features=2, min_samples_leaf=3, min_samples_split=3, n_estimators=50 \n",
      "[CV]  bootstrap=True, max_depth=45, max_features=2, min_samples_leaf=3, min_samples_split=3, n_estimators=50, total=   1.4s\n",
      "[CV] bootstrap=True, max_depth=45, max_features=2, min_samples_leaf=3, min_samples_split=3, n_estimators=60 \n",
      "[CV]  bootstrap=True, max_depth=45, max_features=2, min_samples_leaf=3, min_samples_split=3, n_estimators=60, total=   1.7s\n",
      "[CV] bootstrap=True, max_depth=45, max_features=2, min_samples_leaf=3, min_samples_split=3, n_estimators=60 \n",
      "[CV]  bootstrap=True, max_depth=45, max_features=2, min_samples_leaf=3, min_samples_split=3, n_estimators=60, total=   1.7s\n",
      "[CV] bootstrap=True, max_depth=45, max_features=2, min_samples_leaf=3, min_samples_split=3, n_estimators=60 \n",
      "[CV]  bootstrap=True, max_depth=45, max_features=2, min_samples_leaf=3, min_samples_split=3, n_estimators=60, total=   1.7s\n",
      "[CV] bootstrap=True, max_depth=45, max_features=2, min_samples_leaf=3, min_samples_split=3, n_estimators=70 \n",
      "[CV]  bootstrap=True, max_depth=45, max_features=2, min_samples_leaf=3, min_samples_split=3, n_estimators=70, total=   1.9s\n",
      "[CV] bootstrap=True, max_depth=45, max_features=2, min_samples_leaf=3, min_samples_split=3, n_estimators=70 \n",
      "[CV]  bootstrap=True, max_depth=45, max_features=2, min_samples_leaf=3, min_samples_split=3, n_estimators=70, total=   1.9s\n",
      "[CV] bootstrap=True, max_depth=45, max_features=2, min_samples_leaf=3, min_samples_split=3, n_estimators=70 \n",
      "[CV]  bootstrap=True, max_depth=45, max_features=2, min_samples_leaf=3, min_samples_split=3, n_estimators=70, total=   2.0s\n",
      "[CV] bootstrap=True, max_depth=45, max_features=2, min_samples_leaf=3, min_samples_split=3, n_estimators=80 \n",
      "[CV]  bootstrap=True, max_depth=45, max_features=2, min_samples_leaf=3, min_samples_split=3, n_estimators=80, total=   2.2s\n",
      "[CV] bootstrap=True, max_depth=45, max_features=2, min_samples_leaf=3, min_samples_split=3, n_estimators=80 \n",
      "[CV]  bootstrap=True, max_depth=45, max_features=2, min_samples_leaf=3, min_samples_split=3, n_estimators=80, total=   2.2s\n",
      "[CV] bootstrap=True, max_depth=45, max_features=2, min_samples_leaf=3, min_samples_split=3, n_estimators=80 \n",
      "[CV]  bootstrap=True, max_depth=45, max_features=2, min_samples_leaf=3, min_samples_split=3, n_estimators=80, total=   2.2s\n",
      "[CV] bootstrap=True, max_depth=45, max_features=2, min_samples_leaf=3, min_samples_split=4, n_estimators=50 \n",
      "[CV]  bootstrap=True, max_depth=45, max_features=2, min_samples_leaf=3, min_samples_split=4, n_estimators=50, total=   1.4s\n",
      "[CV] bootstrap=True, max_depth=45, max_features=2, min_samples_leaf=3, min_samples_split=4, n_estimators=50 \n",
      "[CV]  bootstrap=True, max_depth=45, max_features=2, min_samples_leaf=3, min_samples_split=4, n_estimators=50, total=   1.4s\n",
      "[CV] bootstrap=True, max_depth=45, max_features=2, min_samples_leaf=3, min_samples_split=4, n_estimators=50 \n",
      "[CV]  bootstrap=True, max_depth=45, max_features=2, min_samples_leaf=3, min_samples_split=4, n_estimators=50, total=   1.4s\n",
      "[CV] bootstrap=True, max_depth=45, max_features=2, min_samples_leaf=3, min_samples_split=4, n_estimators=60 \n",
      "[CV]  bootstrap=True, max_depth=45, max_features=2, min_samples_leaf=3, min_samples_split=4, n_estimators=60, total=   1.7s\n",
      "[CV] bootstrap=True, max_depth=45, max_features=2, min_samples_leaf=3, min_samples_split=4, n_estimators=60 \n",
      "[CV]  bootstrap=True, max_depth=45, max_features=2, min_samples_leaf=3, min_samples_split=4, n_estimators=60, total=   1.6s\n",
      "[CV] bootstrap=True, max_depth=45, max_features=2, min_samples_leaf=3, min_samples_split=4, n_estimators=60 \n",
      "[CV]  bootstrap=True, max_depth=45, max_features=2, min_samples_leaf=3, min_samples_split=4, n_estimators=60, total=   1.7s\n",
      "[CV] bootstrap=True, max_depth=45, max_features=2, min_samples_leaf=3, min_samples_split=4, n_estimators=70 \n",
      "[CV]  bootstrap=True, max_depth=45, max_features=2, min_samples_leaf=3, min_samples_split=4, n_estimators=70, total=   1.9s\n",
      "[CV] bootstrap=True, max_depth=45, max_features=2, min_samples_leaf=3, min_samples_split=4, n_estimators=70 \n",
      "[CV]  bootstrap=True, max_depth=45, max_features=2, min_samples_leaf=3, min_samples_split=4, n_estimators=70, total=   1.9s\n",
      "[CV] bootstrap=True, max_depth=45, max_features=2, min_samples_leaf=3, min_samples_split=4, n_estimators=70 \n",
      "[CV]  bootstrap=True, max_depth=45, max_features=2, min_samples_leaf=3, min_samples_split=4, n_estimators=70, total=   1.9s\n",
      "[CV] bootstrap=True, max_depth=45, max_features=2, min_samples_leaf=3, min_samples_split=4, n_estimators=80 \n",
      "[CV]  bootstrap=True, max_depth=45, max_features=2, min_samples_leaf=3, min_samples_split=4, n_estimators=80, total=   2.2s\n",
      "[CV] bootstrap=True, max_depth=45, max_features=2, min_samples_leaf=3, min_samples_split=4, n_estimators=80 \n",
      "[CV]  bootstrap=True, max_depth=45, max_features=2, min_samples_leaf=3, min_samples_split=4, n_estimators=80, total=   2.2s\n",
      "[CV] bootstrap=True, max_depth=45, max_features=2, min_samples_leaf=3, min_samples_split=4, n_estimators=80 \n",
      "[CV]  bootstrap=True, max_depth=45, max_features=2, min_samples_leaf=3, min_samples_split=4, n_estimators=80, total=   2.3s\n",
      "[CV] bootstrap=True, max_depth=45, max_features=2, min_samples_leaf=3, min_samples_split=5, n_estimators=50 \n",
      "[CV]  bootstrap=True, max_depth=45, max_features=2, min_samples_leaf=3, min_samples_split=5, n_estimators=50, total=   1.4s\n",
      "[CV] bootstrap=True, max_depth=45, max_features=2, min_samples_leaf=3, min_samples_split=5, n_estimators=50 \n",
      "[CV]  bootstrap=True, max_depth=45, max_features=2, min_samples_leaf=3, min_samples_split=5, n_estimators=50, total=   1.4s\n",
      "[CV] bootstrap=True, max_depth=45, max_features=2, min_samples_leaf=3, min_samples_split=5, n_estimators=50 \n",
      "[CV]  bootstrap=True, max_depth=45, max_features=2, min_samples_leaf=3, min_samples_split=5, n_estimators=50, total=   1.4s\n",
      "[CV] bootstrap=True, max_depth=45, max_features=2, min_samples_leaf=3, min_samples_split=5, n_estimators=60 \n",
      "[CV]  bootstrap=True, max_depth=45, max_features=2, min_samples_leaf=3, min_samples_split=5, n_estimators=60, total=   1.8s\n",
      "[CV] bootstrap=True, max_depth=45, max_features=2, min_samples_leaf=3, min_samples_split=5, n_estimators=60 \n",
      "[CV]  bootstrap=True, max_depth=45, max_features=2, min_samples_leaf=3, min_samples_split=5, n_estimators=60, total=   1.8s\n",
      "[CV] bootstrap=True, max_depth=45, max_features=2, min_samples_leaf=3, min_samples_split=5, n_estimators=60 \n",
      "[CV]  bootstrap=True, max_depth=45, max_features=2, min_samples_leaf=3, min_samples_split=5, n_estimators=60, total=   1.7s\n",
      "[CV] bootstrap=True, max_depth=45, max_features=2, min_samples_leaf=3, min_samples_split=5, n_estimators=70 \n",
      "[CV]  bootstrap=True, max_depth=45, max_features=2, min_samples_leaf=3, min_samples_split=5, n_estimators=70, total=   2.0s\n",
      "[CV] bootstrap=True, max_depth=45, max_features=2, min_samples_leaf=3, min_samples_split=5, n_estimators=70 \n"
     ]
    },
    {
     "ename": "KeyboardInterrupt",
     "evalue": "",
     "output_type": "error",
     "traceback": [
      "\u001b[1;31m---------------------------------------------------------------------------\u001b[0m",
      "\u001b[1;31mKeyboardInterrupt\u001b[0m                         Traceback (most recent call last)",
      "\u001b[1;32m<ipython-input-96-43769cbbe5f3>\u001b[0m in \u001b[0;36m<module>\u001b[1;34m\u001b[0m\n\u001b[0;32m     16\u001b[0m \u001b[1;33m\u001b[0m\u001b[0m\n\u001b[0;32m     17\u001b[0m \u001b[1;31m# clf = GridSearchCV(rfc, cv=5)\u001b[0m\u001b[1;33m\u001b[0m\u001b[1;33m\u001b[0m\u001b[1;33m\u001b[0m\u001b[0m\n\u001b[1;32m---> 18\u001b[1;33m \u001b[0mclf\u001b[0m\u001b[1;33m.\u001b[0m\u001b[0mfit\u001b[0m\u001b[1;33m(\u001b[0m\u001b[0mX_train\u001b[0m\u001b[1;33m,\u001b[0m \u001b[0my_train\u001b[0m\u001b[1;33m)\u001b[0m\u001b[1;33m\u001b[0m\u001b[1;33m\u001b[0m\u001b[0m\n\u001b[0m\u001b[0;32m     19\u001b[0m \u001b[1;33m\u001b[0m\u001b[0m\n\u001b[0;32m     20\u001b[0m \u001b[0mprint\u001b[0m\u001b[1;33m(\u001b[0m\u001b[1;34m'Best Parameters: '\u001b[0m\u001b[1;33m,\u001b[0m \u001b[0mclf\u001b[0m\u001b[1;33m.\u001b[0m\u001b[0mbest_estimator_\u001b[0m\u001b[1;33m.\u001b[0m\u001b[0msteps\u001b[0m\u001b[1;33m[\u001b[0m\u001b[1;33m-\u001b[0m\u001b[1;36m1\u001b[0m\u001b[1;33m]\u001b[0m\u001b[1;33m[\u001b[0m\u001b[1;36m1\u001b[0m\u001b[1;33m]\u001b[0m\u001b[1;33m)\u001b[0m\u001b[1;33m\u001b[0m\u001b[1;33m\u001b[0m\u001b[0m\n",
      "\u001b[1;32mD:\\My_En-Soft\\Anaconda\\lib\\site-packages\\sklearn\\model_selection\\_search.py\u001b[0m in \u001b[0;36mfit\u001b[1;34m(self, X, y, groups, **fit_params)\u001b[0m\n\u001b[0;32m    710\u001b[0m                 \u001b[1;32mreturn\u001b[0m \u001b[0mresults\u001b[0m\u001b[1;33m\u001b[0m\u001b[1;33m\u001b[0m\u001b[0m\n\u001b[0;32m    711\u001b[0m \u001b[1;33m\u001b[0m\u001b[0m\n\u001b[1;32m--> 712\u001b[1;33m             \u001b[0mself\u001b[0m\u001b[1;33m.\u001b[0m\u001b[0m_run_search\u001b[0m\u001b[1;33m(\u001b[0m\u001b[0mevaluate_candidates\u001b[0m\u001b[1;33m)\u001b[0m\u001b[1;33m\u001b[0m\u001b[1;33m\u001b[0m\u001b[0m\n\u001b[0m\u001b[0;32m    713\u001b[0m \u001b[1;33m\u001b[0m\u001b[0m\n\u001b[0;32m    714\u001b[0m         \u001b[1;31m# For multi-metric evaluation, store the best_index_, best_params_ and\u001b[0m\u001b[1;33m\u001b[0m\u001b[1;33m\u001b[0m\u001b[1;33m\u001b[0m\u001b[0m\n",
      "\u001b[1;32mD:\\My_En-Soft\\Anaconda\\lib\\site-packages\\sklearn\\model_selection\\_search.py\u001b[0m in \u001b[0;36m_run_search\u001b[1;34m(self, evaluate_candidates)\u001b[0m\n\u001b[0;32m   1151\u001b[0m     \u001b[1;32mdef\u001b[0m \u001b[0m_run_search\u001b[0m\u001b[1;33m(\u001b[0m\u001b[0mself\u001b[0m\u001b[1;33m,\u001b[0m \u001b[0mevaluate_candidates\u001b[0m\u001b[1;33m)\u001b[0m\u001b[1;33m:\u001b[0m\u001b[1;33m\u001b[0m\u001b[1;33m\u001b[0m\u001b[0m\n\u001b[0;32m   1152\u001b[0m         \u001b[1;34m\"\"\"Search all candidates in param_grid\"\"\"\u001b[0m\u001b[1;33m\u001b[0m\u001b[1;33m\u001b[0m\u001b[0m\n\u001b[1;32m-> 1153\u001b[1;33m         \u001b[0mevaluate_candidates\u001b[0m\u001b[1;33m(\u001b[0m\u001b[0mParameterGrid\u001b[0m\u001b[1;33m(\u001b[0m\u001b[0mself\u001b[0m\u001b[1;33m.\u001b[0m\u001b[0mparam_grid\u001b[0m\u001b[1;33m)\u001b[0m\u001b[1;33m)\u001b[0m\u001b[1;33m\u001b[0m\u001b[1;33m\u001b[0m\u001b[0m\n\u001b[0m\u001b[0;32m   1154\u001b[0m \u001b[1;33m\u001b[0m\u001b[0m\n\u001b[0;32m   1155\u001b[0m \u001b[1;33m\u001b[0m\u001b[0m\n",
      "\u001b[1;32mD:\\My_En-Soft\\Anaconda\\lib\\site-packages\\sklearn\\model_selection\\_search.py\u001b[0m in \u001b[0;36mevaluate_candidates\u001b[1;34m(candidate_params)\u001b[0m\n\u001b[0;32m    689\u001b[0m                                \u001b[1;32mfor\u001b[0m \u001b[0mparameters\u001b[0m\u001b[1;33m,\u001b[0m \u001b[1;33m(\u001b[0m\u001b[0mtrain\u001b[0m\u001b[1;33m,\u001b[0m \u001b[0mtest\u001b[0m\u001b[1;33m)\u001b[0m\u001b[1;33m\u001b[0m\u001b[1;33m\u001b[0m\u001b[0m\n\u001b[0;32m    690\u001b[0m                                in product(candidate_params,\n\u001b[1;32m--> 691\u001b[1;33m                                           cv.split(X, y, groups)))\n\u001b[0m\u001b[0;32m    692\u001b[0m \u001b[1;33m\u001b[0m\u001b[0m\n\u001b[0;32m    693\u001b[0m                 \u001b[1;32mif\u001b[0m \u001b[0mlen\u001b[0m\u001b[1;33m(\u001b[0m\u001b[0mout\u001b[0m\u001b[1;33m)\u001b[0m \u001b[1;33m<\u001b[0m \u001b[1;36m1\u001b[0m\u001b[1;33m:\u001b[0m\u001b[1;33m\u001b[0m\u001b[1;33m\u001b[0m\u001b[0m\n",
      "\u001b[1;32mD:\\My_En-Soft\\Anaconda\\lib\\site-packages\\joblib\\parallel.py\u001b[0m in \u001b[0;36m__call__\u001b[1;34m(self, iterable)\u001b[0m\n\u001b[0;32m   1005\u001b[0m                 \u001b[0mself\u001b[0m\u001b[1;33m.\u001b[0m\u001b[0m_iterating\u001b[0m \u001b[1;33m=\u001b[0m \u001b[0mself\u001b[0m\u001b[1;33m.\u001b[0m\u001b[0m_original_iterator\u001b[0m \u001b[1;32mis\u001b[0m \u001b[1;32mnot\u001b[0m \u001b[1;32mNone\u001b[0m\u001b[1;33m\u001b[0m\u001b[1;33m\u001b[0m\u001b[0m\n\u001b[0;32m   1006\u001b[0m \u001b[1;33m\u001b[0m\u001b[0m\n\u001b[1;32m-> 1007\u001b[1;33m             \u001b[1;32mwhile\u001b[0m \u001b[0mself\u001b[0m\u001b[1;33m.\u001b[0m\u001b[0mdispatch_one_batch\u001b[0m\u001b[1;33m(\u001b[0m\u001b[0miterator\u001b[0m\u001b[1;33m)\u001b[0m\u001b[1;33m:\u001b[0m\u001b[1;33m\u001b[0m\u001b[1;33m\u001b[0m\u001b[0m\n\u001b[0m\u001b[0;32m   1008\u001b[0m                 \u001b[1;32mpass\u001b[0m\u001b[1;33m\u001b[0m\u001b[1;33m\u001b[0m\u001b[0m\n\u001b[0;32m   1009\u001b[0m \u001b[1;33m\u001b[0m\u001b[0m\n",
      "\u001b[1;32mD:\\My_En-Soft\\Anaconda\\lib\\site-packages\\joblib\\parallel.py\u001b[0m in \u001b[0;36mdispatch_one_batch\u001b[1;34m(self, iterator)\u001b[0m\n\u001b[0;32m    833\u001b[0m                 \u001b[1;32mreturn\u001b[0m \u001b[1;32mFalse\u001b[0m\u001b[1;33m\u001b[0m\u001b[1;33m\u001b[0m\u001b[0m\n\u001b[0;32m    834\u001b[0m             \u001b[1;32melse\u001b[0m\u001b[1;33m:\u001b[0m\u001b[1;33m\u001b[0m\u001b[1;33m\u001b[0m\u001b[0m\n\u001b[1;32m--> 835\u001b[1;33m                 \u001b[0mself\u001b[0m\u001b[1;33m.\u001b[0m\u001b[0m_dispatch\u001b[0m\u001b[1;33m(\u001b[0m\u001b[0mtasks\u001b[0m\u001b[1;33m)\u001b[0m\u001b[1;33m\u001b[0m\u001b[1;33m\u001b[0m\u001b[0m\n\u001b[0m\u001b[0;32m    836\u001b[0m                 \u001b[1;32mreturn\u001b[0m \u001b[1;32mTrue\u001b[0m\u001b[1;33m\u001b[0m\u001b[1;33m\u001b[0m\u001b[0m\n\u001b[0;32m    837\u001b[0m \u001b[1;33m\u001b[0m\u001b[0m\n",
      "\u001b[1;32mD:\\My_En-Soft\\Anaconda\\lib\\site-packages\\joblib\\parallel.py\u001b[0m in \u001b[0;36m_dispatch\u001b[1;34m(self, batch)\u001b[0m\n\u001b[0;32m    752\u001b[0m         \u001b[1;32mwith\u001b[0m \u001b[0mself\u001b[0m\u001b[1;33m.\u001b[0m\u001b[0m_lock\u001b[0m\u001b[1;33m:\u001b[0m\u001b[1;33m\u001b[0m\u001b[1;33m\u001b[0m\u001b[0m\n\u001b[0;32m    753\u001b[0m             \u001b[0mjob_idx\u001b[0m \u001b[1;33m=\u001b[0m \u001b[0mlen\u001b[0m\u001b[1;33m(\u001b[0m\u001b[0mself\u001b[0m\u001b[1;33m.\u001b[0m\u001b[0m_jobs\u001b[0m\u001b[1;33m)\u001b[0m\u001b[1;33m\u001b[0m\u001b[1;33m\u001b[0m\u001b[0m\n\u001b[1;32m--> 754\u001b[1;33m             \u001b[0mjob\u001b[0m \u001b[1;33m=\u001b[0m \u001b[0mself\u001b[0m\u001b[1;33m.\u001b[0m\u001b[0m_backend\u001b[0m\u001b[1;33m.\u001b[0m\u001b[0mapply_async\u001b[0m\u001b[1;33m(\u001b[0m\u001b[0mbatch\u001b[0m\u001b[1;33m,\u001b[0m \u001b[0mcallback\u001b[0m\u001b[1;33m=\u001b[0m\u001b[0mcb\u001b[0m\u001b[1;33m)\u001b[0m\u001b[1;33m\u001b[0m\u001b[1;33m\u001b[0m\u001b[0m\n\u001b[0m\u001b[0;32m    755\u001b[0m             \u001b[1;31m# A job can complete so quickly than its callback is\u001b[0m\u001b[1;33m\u001b[0m\u001b[1;33m\u001b[0m\u001b[1;33m\u001b[0m\u001b[0m\n\u001b[0;32m    756\u001b[0m             \u001b[1;31m# called before we get here, causing self._jobs to\u001b[0m\u001b[1;33m\u001b[0m\u001b[1;33m\u001b[0m\u001b[1;33m\u001b[0m\u001b[0m\n",
      "\u001b[1;32mD:\\My_En-Soft\\Anaconda\\lib\\site-packages\\joblib\\_parallel_backends.py\u001b[0m in \u001b[0;36mapply_async\u001b[1;34m(self, func, callback)\u001b[0m\n\u001b[0;32m    207\u001b[0m     \u001b[1;32mdef\u001b[0m \u001b[0mapply_async\u001b[0m\u001b[1;33m(\u001b[0m\u001b[0mself\u001b[0m\u001b[1;33m,\u001b[0m \u001b[0mfunc\u001b[0m\u001b[1;33m,\u001b[0m \u001b[0mcallback\u001b[0m\u001b[1;33m=\u001b[0m\u001b[1;32mNone\u001b[0m\u001b[1;33m)\u001b[0m\u001b[1;33m:\u001b[0m\u001b[1;33m\u001b[0m\u001b[1;33m\u001b[0m\u001b[0m\n\u001b[0;32m    208\u001b[0m         \u001b[1;34m\"\"\"Schedule a func to be run\"\"\"\u001b[0m\u001b[1;33m\u001b[0m\u001b[1;33m\u001b[0m\u001b[0m\n\u001b[1;32m--> 209\u001b[1;33m         \u001b[0mresult\u001b[0m \u001b[1;33m=\u001b[0m \u001b[0mImmediateResult\u001b[0m\u001b[1;33m(\u001b[0m\u001b[0mfunc\u001b[0m\u001b[1;33m)\u001b[0m\u001b[1;33m\u001b[0m\u001b[1;33m\u001b[0m\u001b[0m\n\u001b[0m\u001b[0;32m    210\u001b[0m         \u001b[1;32mif\u001b[0m \u001b[0mcallback\u001b[0m\u001b[1;33m:\u001b[0m\u001b[1;33m\u001b[0m\u001b[1;33m\u001b[0m\u001b[0m\n\u001b[0;32m    211\u001b[0m             \u001b[0mcallback\u001b[0m\u001b[1;33m(\u001b[0m\u001b[0mresult\u001b[0m\u001b[1;33m)\u001b[0m\u001b[1;33m\u001b[0m\u001b[1;33m\u001b[0m\u001b[0m\n",
      "\u001b[1;32mD:\\My_En-Soft\\Anaconda\\lib\\site-packages\\joblib\\_parallel_backends.py\u001b[0m in \u001b[0;36m__init__\u001b[1;34m(self, batch)\u001b[0m\n\u001b[0;32m    588\u001b[0m         \u001b[1;31m# Don't delay the application, to avoid keeping the input\u001b[0m\u001b[1;33m\u001b[0m\u001b[1;33m\u001b[0m\u001b[1;33m\u001b[0m\u001b[0m\n\u001b[0;32m    589\u001b[0m         \u001b[1;31m# arguments in memory\u001b[0m\u001b[1;33m\u001b[0m\u001b[1;33m\u001b[0m\u001b[1;33m\u001b[0m\u001b[0m\n\u001b[1;32m--> 590\u001b[1;33m         \u001b[0mself\u001b[0m\u001b[1;33m.\u001b[0m\u001b[0mresults\u001b[0m \u001b[1;33m=\u001b[0m \u001b[0mbatch\u001b[0m\u001b[1;33m(\u001b[0m\u001b[1;33m)\u001b[0m\u001b[1;33m\u001b[0m\u001b[1;33m\u001b[0m\u001b[0m\n\u001b[0m\u001b[0;32m    591\u001b[0m \u001b[1;33m\u001b[0m\u001b[0m\n\u001b[0;32m    592\u001b[0m     \u001b[1;32mdef\u001b[0m \u001b[0mget\u001b[0m\u001b[1;33m(\u001b[0m\u001b[0mself\u001b[0m\u001b[1;33m)\u001b[0m\u001b[1;33m:\u001b[0m\u001b[1;33m\u001b[0m\u001b[1;33m\u001b[0m\u001b[0m\n",
      "\u001b[1;32mD:\\My_En-Soft\\Anaconda\\lib\\site-packages\\joblib\\parallel.py\u001b[0m in \u001b[0;36m__call__\u001b[1;34m(self)\u001b[0m\n\u001b[0;32m    254\u001b[0m         \u001b[1;32mwith\u001b[0m \u001b[0mparallel_backend\u001b[0m\u001b[1;33m(\u001b[0m\u001b[0mself\u001b[0m\u001b[1;33m.\u001b[0m\u001b[0m_backend\u001b[0m\u001b[1;33m,\u001b[0m \u001b[0mn_jobs\u001b[0m\u001b[1;33m=\u001b[0m\u001b[0mself\u001b[0m\u001b[1;33m.\u001b[0m\u001b[0m_n_jobs\u001b[0m\u001b[1;33m)\u001b[0m\u001b[1;33m:\u001b[0m\u001b[1;33m\u001b[0m\u001b[1;33m\u001b[0m\u001b[0m\n\u001b[0;32m    255\u001b[0m             return [func(*args, **kwargs)\n\u001b[1;32m--> 256\u001b[1;33m                     for func, args, kwargs in self.items]\n\u001b[0m\u001b[0;32m    257\u001b[0m \u001b[1;33m\u001b[0m\u001b[0m\n\u001b[0;32m    258\u001b[0m     \u001b[1;32mdef\u001b[0m \u001b[0m__len__\u001b[0m\u001b[1;33m(\u001b[0m\u001b[0mself\u001b[0m\u001b[1;33m)\u001b[0m\u001b[1;33m:\u001b[0m\u001b[1;33m\u001b[0m\u001b[1;33m\u001b[0m\u001b[0m\n",
      "\u001b[1;32mD:\\My_En-Soft\\Anaconda\\lib\\site-packages\\joblib\\parallel.py\u001b[0m in \u001b[0;36m<listcomp>\u001b[1;34m(.0)\u001b[0m\n\u001b[0;32m    254\u001b[0m         \u001b[1;32mwith\u001b[0m \u001b[0mparallel_backend\u001b[0m\u001b[1;33m(\u001b[0m\u001b[0mself\u001b[0m\u001b[1;33m.\u001b[0m\u001b[0m_backend\u001b[0m\u001b[1;33m,\u001b[0m \u001b[0mn_jobs\u001b[0m\u001b[1;33m=\u001b[0m\u001b[0mself\u001b[0m\u001b[1;33m.\u001b[0m\u001b[0m_n_jobs\u001b[0m\u001b[1;33m)\u001b[0m\u001b[1;33m:\u001b[0m\u001b[1;33m\u001b[0m\u001b[1;33m\u001b[0m\u001b[0m\n\u001b[0;32m    255\u001b[0m             return [func(*args, **kwargs)\n\u001b[1;32m--> 256\u001b[1;33m                     for func, args, kwargs in self.items]\n\u001b[0m\u001b[0;32m    257\u001b[0m \u001b[1;33m\u001b[0m\u001b[0m\n\u001b[0;32m    258\u001b[0m     \u001b[1;32mdef\u001b[0m \u001b[0m__len__\u001b[0m\u001b[1;33m(\u001b[0m\u001b[0mself\u001b[0m\u001b[1;33m)\u001b[0m\u001b[1;33m:\u001b[0m\u001b[1;33m\u001b[0m\u001b[1;33m\u001b[0m\u001b[0m\n",
      "\u001b[1;32mD:\\My_En-Soft\\Anaconda\\lib\\site-packages\\sklearn\\model_selection\\_validation.py\u001b[0m in \u001b[0;36m_fit_and_score\u001b[1;34m(estimator, X, y, scorer, train, test, verbose, parameters, fit_params, return_train_score, return_parameters, return_n_test_samples, return_times, return_estimator, error_score)\u001b[0m\n\u001b[0;32m    513\u001b[0m             \u001b[0mestimator\u001b[0m\u001b[1;33m.\u001b[0m\u001b[0mfit\u001b[0m\u001b[1;33m(\u001b[0m\u001b[0mX_train\u001b[0m\u001b[1;33m,\u001b[0m \u001b[1;33m**\u001b[0m\u001b[0mfit_params\u001b[0m\u001b[1;33m)\u001b[0m\u001b[1;33m\u001b[0m\u001b[1;33m\u001b[0m\u001b[0m\n\u001b[0;32m    514\u001b[0m         \u001b[1;32melse\u001b[0m\u001b[1;33m:\u001b[0m\u001b[1;33m\u001b[0m\u001b[1;33m\u001b[0m\u001b[0m\n\u001b[1;32m--> 515\u001b[1;33m             \u001b[0mestimator\u001b[0m\u001b[1;33m.\u001b[0m\u001b[0mfit\u001b[0m\u001b[1;33m(\u001b[0m\u001b[0mX_train\u001b[0m\u001b[1;33m,\u001b[0m \u001b[0my_train\u001b[0m\u001b[1;33m,\u001b[0m \u001b[1;33m**\u001b[0m\u001b[0mfit_params\u001b[0m\u001b[1;33m)\u001b[0m\u001b[1;33m\u001b[0m\u001b[1;33m\u001b[0m\u001b[0m\n\u001b[0m\u001b[0;32m    516\u001b[0m \u001b[1;33m\u001b[0m\u001b[0m\n\u001b[0;32m    517\u001b[0m     \u001b[1;32mexcept\u001b[0m \u001b[0mException\u001b[0m \u001b[1;32mas\u001b[0m \u001b[0me\u001b[0m\u001b[1;33m:\u001b[0m\u001b[1;33m\u001b[0m\u001b[1;33m\u001b[0m\u001b[0m\n",
      "\u001b[1;32mD:\\My_En-Soft\\Anaconda\\lib\\site-packages\\sklearn\\ensemble\\_forest.py\u001b[0m in \u001b[0;36mfit\u001b[1;34m(self, X, y, sample_weight)\u001b[0m\n\u001b[0;32m    293\u001b[0m         \"\"\"\n\u001b[0;32m    294\u001b[0m         \u001b[1;31m# Validate or convert input data\u001b[0m\u001b[1;33m\u001b[0m\u001b[1;33m\u001b[0m\u001b[1;33m\u001b[0m\u001b[0m\n\u001b[1;32m--> 295\u001b[1;33m         \u001b[0mX\u001b[0m \u001b[1;33m=\u001b[0m \u001b[0mcheck_array\u001b[0m\u001b[1;33m(\u001b[0m\u001b[0mX\u001b[0m\u001b[1;33m,\u001b[0m \u001b[0maccept_sparse\u001b[0m\u001b[1;33m=\u001b[0m\u001b[1;34m\"csc\"\u001b[0m\u001b[1;33m,\u001b[0m \u001b[0mdtype\u001b[0m\u001b[1;33m=\u001b[0m\u001b[0mDTYPE\u001b[0m\u001b[1;33m)\u001b[0m\u001b[1;33m\u001b[0m\u001b[1;33m\u001b[0m\u001b[0m\n\u001b[0m\u001b[0;32m    296\u001b[0m         \u001b[0my\u001b[0m \u001b[1;33m=\u001b[0m \u001b[0mcheck_array\u001b[0m\u001b[1;33m(\u001b[0m\u001b[0my\u001b[0m\u001b[1;33m,\u001b[0m \u001b[0maccept_sparse\u001b[0m\u001b[1;33m=\u001b[0m\u001b[1;34m'csc'\u001b[0m\u001b[1;33m,\u001b[0m \u001b[0mensure_2d\u001b[0m\u001b[1;33m=\u001b[0m\u001b[1;32mFalse\u001b[0m\u001b[1;33m,\u001b[0m \u001b[0mdtype\u001b[0m\u001b[1;33m=\u001b[0m\u001b[1;32mNone\u001b[0m\u001b[1;33m)\u001b[0m\u001b[1;33m\u001b[0m\u001b[1;33m\u001b[0m\u001b[0m\n\u001b[0;32m    297\u001b[0m         \u001b[1;32mif\u001b[0m \u001b[0msample_weight\u001b[0m \u001b[1;32mis\u001b[0m \u001b[1;32mnot\u001b[0m \u001b[1;32mNone\u001b[0m\u001b[1;33m:\u001b[0m\u001b[1;33m\u001b[0m\u001b[1;33m\u001b[0m\u001b[0m\n",
      "\u001b[1;32mD:\\My_En-Soft\\Anaconda\\lib\\site-packages\\sklearn\\utils\\validation.py\u001b[0m in \u001b[0;36mcheck_array\u001b[1;34m(array, accept_sparse, accept_large_sparse, dtype, order, copy, force_all_finite, ensure_2d, allow_nd, ensure_min_samples, ensure_min_features, warn_on_dtype, estimator)\u001b[0m\n\u001b[0;32m    560\u001b[0m         \u001b[1;32mif\u001b[0m \u001b[0mforce_all_finite\u001b[0m\u001b[1;33m:\u001b[0m\u001b[1;33m\u001b[0m\u001b[1;33m\u001b[0m\u001b[0m\n\u001b[0;32m    561\u001b[0m             _assert_all_finite(array,\n\u001b[1;32m--> 562\u001b[1;33m                                allow_nan=force_all_finite == 'allow-nan')\n\u001b[0m\u001b[0;32m    563\u001b[0m \u001b[1;33m\u001b[0m\u001b[0m\n\u001b[0;32m    564\u001b[0m     \u001b[1;32mif\u001b[0m \u001b[0mensure_min_samples\u001b[0m \u001b[1;33m>\u001b[0m \u001b[1;36m0\u001b[0m\u001b[1;33m:\u001b[0m\u001b[1;33m\u001b[0m\u001b[1;33m\u001b[0m\u001b[0m\n",
      "\u001b[1;32mD:\\My_En-Soft\\Anaconda\\lib\\site-packages\\sklearn\\utils\\validation.py\u001b[0m in \u001b[0;36m_assert_all_finite\u001b[1;34m(X, allow_nan, msg_dtype)\u001b[0m\n\u001b[0;32m     48\u001b[0m     \u001b[1;31m# safely to reduce dtype induced overflows.\u001b[0m\u001b[1;33m\u001b[0m\u001b[1;33m\u001b[0m\u001b[1;33m\u001b[0m\u001b[0m\n\u001b[0;32m     49\u001b[0m     \u001b[0mis_float\u001b[0m \u001b[1;33m=\u001b[0m \u001b[0mX\u001b[0m\u001b[1;33m.\u001b[0m\u001b[0mdtype\u001b[0m\u001b[1;33m.\u001b[0m\u001b[0mkind\u001b[0m \u001b[1;32min\u001b[0m \u001b[1;34m'fc'\u001b[0m\u001b[1;33m\u001b[0m\u001b[1;33m\u001b[0m\u001b[0m\n\u001b[1;32m---> 50\u001b[1;33m     \u001b[1;32mif\u001b[0m \u001b[0mis_float\u001b[0m \u001b[1;32mand\u001b[0m \u001b[1;33m(\u001b[0m\u001b[0mnp\u001b[0m\u001b[1;33m.\u001b[0m\u001b[0misfinite\u001b[0m\u001b[1;33m(\u001b[0m\u001b[0m_safe_accumulator_op\u001b[0m\u001b[1;33m(\u001b[0m\u001b[0mnp\u001b[0m\u001b[1;33m.\u001b[0m\u001b[0msum\u001b[0m\u001b[1;33m,\u001b[0m \u001b[0mX\u001b[0m\u001b[1;33m)\u001b[0m\u001b[1;33m)\u001b[0m\u001b[1;33m)\u001b[0m\u001b[1;33m:\u001b[0m\u001b[1;33m\u001b[0m\u001b[1;33m\u001b[0m\u001b[0m\n\u001b[0m\u001b[0;32m     51\u001b[0m         \u001b[1;32mpass\u001b[0m\u001b[1;33m\u001b[0m\u001b[1;33m\u001b[0m\u001b[0m\n\u001b[0;32m     52\u001b[0m     \u001b[1;32melif\u001b[0m \u001b[0mis_float\u001b[0m\u001b[1;33m:\u001b[0m\u001b[1;33m\u001b[0m\u001b[1;33m\u001b[0m\u001b[0m\n",
      "\u001b[1;32mD:\\My_En-Soft\\Anaconda\\lib\\site-packages\\sklearn\\utils\\extmath.py\u001b[0m in \u001b[0;36m_safe_accumulator_op\u001b[1;34m(op, x, *args, **kwargs)\u001b[0m\n\u001b[0;32m    702\u001b[0m     \"\"\"\n\u001b[0;32m    703\u001b[0m     \u001b[1;32mif\u001b[0m \u001b[0mnp\u001b[0m\u001b[1;33m.\u001b[0m\u001b[0missubdtype\u001b[0m\u001b[1;33m(\u001b[0m\u001b[0mx\u001b[0m\u001b[1;33m.\u001b[0m\u001b[0mdtype\u001b[0m\u001b[1;33m,\u001b[0m \u001b[0mnp\u001b[0m\u001b[1;33m.\u001b[0m\u001b[0mfloating\u001b[0m\u001b[1;33m)\u001b[0m \u001b[1;32mand\u001b[0m \u001b[0mx\u001b[0m\u001b[1;33m.\u001b[0m\u001b[0mdtype\u001b[0m\u001b[1;33m.\u001b[0m\u001b[0mitemsize\u001b[0m \u001b[1;33m<\u001b[0m \u001b[1;36m8\u001b[0m\u001b[1;33m:\u001b[0m\u001b[1;33m\u001b[0m\u001b[1;33m\u001b[0m\u001b[0m\n\u001b[1;32m--> 704\u001b[1;33m         \u001b[0mresult\u001b[0m \u001b[1;33m=\u001b[0m \u001b[0mop\u001b[0m\u001b[1;33m(\u001b[0m\u001b[0mx\u001b[0m\u001b[1;33m,\u001b[0m \u001b[1;33m*\u001b[0m\u001b[0margs\u001b[0m\u001b[1;33m,\u001b[0m \u001b[1;33m**\u001b[0m\u001b[0mkwargs\u001b[0m\u001b[1;33m,\u001b[0m \u001b[0mdtype\u001b[0m\u001b[1;33m=\u001b[0m\u001b[0mnp\u001b[0m\u001b[1;33m.\u001b[0m\u001b[0mfloat64\u001b[0m\u001b[1;33m)\u001b[0m\u001b[1;33m\u001b[0m\u001b[1;33m\u001b[0m\u001b[0m\n\u001b[0m\u001b[0;32m    705\u001b[0m     \u001b[1;32melse\u001b[0m\u001b[1;33m:\u001b[0m\u001b[1;33m\u001b[0m\u001b[1;33m\u001b[0m\u001b[0m\n\u001b[0;32m    706\u001b[0m         \u001b[0mresult\u001b[0m \u001b[1;33m=\u001b[0m \u001b[0mop\u001b[0m\u001b[1;33m(\u001b[0m\u001b[0mx\u001b[0m\u001b[1;33m,\u001b[0m \u001b[1;33m*\u001b[0m\u001b[0margs\u001b[0m\u001b[1;33m,\u001b[0m \u001b[1;33m**\u001b[0m\u001b[0mkwargs\u001b[0m\u001b[1;33m)\u001b[0m\u001b[1;33m\u001b[0m\u001b[1;33m\u001b[0m\u001b[0m\n",
      "\u001b[1;32m<__array_function__ internals>\u001b[0m in \u001b[0;36msum\u001b[1;34m(*args, **kwargs)\u001b[0m\n",
      "\u001b[1;32mD:\\My_En-Soft\\Anaconda\\lib\\site-packages\\numpy\\core\\fromnumeric.py\u001b[0m in \u001b[0;36msum\u001b[1;34m(a, axis, dtype, out, keepdims, initial, where)\u001b[0m\n\u001b[0;32m   2180\u001b[0m \u001b[1;33m\u001b[0m\u001b[0m\n\u001b[0;32m   2181\u001b[0m     return _wrapreduction(a, np.add, 'sum', axis, dtype, out, keepdims=keepdims,\n\u001b[1;32m-> 2182\u001b[1;33m                           initial=initial, where=where)\n\u001b[0m\u001b[0;32m   2183\u001b[0m \u001b[1;33m\u001b[0m\u001b[0m\n\u001b[0;32m   2184\u001b[0m \u001b[1;33m\u001b[0m\u001b[0m\n",
      "\u001b[1;32mD:\\My_En-Soft\\Anaconda\\lib\\site-packages\\numpy\\core\\fromnumeric.py\u001b[0m in \u001b[0;36m_wrapreduction\u001b[1;34m(obj, ufunc, method, axis, dtype, out, **kwargs)\u001b[0m\n\u001b[0;32m     88\u001b[0m                 \u001b[1;32mreturn\u001b[0m \u001b[0mreduction\u001b[0m\u001b[1;33m(\u001b[0m\u001b[0maxis\u001b[0m\u001b[1;33m=\u001b[0m\u001b[0maxis\u001b[0m\u001b[1;33m,\u001b[0m \u001b[0mout\u001b[0m\u001b[1;33m=\u001b[0m\u001b[0mout\u001b[0m\u001b[1;33m,\u001b[0m \u001b[1;33m**\u001b[0m\u001b[0mpasskwargs\u001b[0m\u001b[1;33m)\u001b[0m\u001b[1;33m\u001b[0m\u001b[1;33m\u001b[0m\u001b[0m\n\u001b[0;32m     89\u001b[0m \u001b[1;33m\u001b[0m\u001b[0m\n\u001b[1;32m---> 90\u001b[1;33m     \u001b[1;32mreturn\u001b[0m \u001b[0mufunc\u001b[0m\u001b[1;33m.\u001b[0m\u001b[0mreduce\u001b[0m\u001b[1;33m(\u001b[0m\u001b[0mobj\u001b[0m\u001b[1;33m,\u001b[0m \u001b[0maxis\u001b[0m\u001b[1;33m,\u001b[0m \u001b[0mdtype\u001b[0m\u001b[1;33m,\u001b[0m \u001b[0mout\u001b[0m\u001b[1;33m,\u001b[0m \u001b[1;33m**\u001b[0m\u001b[0mpasskwargs\u001b[0m\u001b[1;33m)\u001b[0m\u001b[1;33m\u001b[0m\u001b[1;33m\u001b[0m\u001b[0m\n\u001b[0m\u001b[0;32m     91\u001b[0m \u001b[1;33m\u001b[0m\u001b[0m\n\u001b[0;32m     92\u001b[0m \u001b[1;33m\u001b[0m\u001b[0m\n",
      "\u001b[1;31mKeyboardInterrupt\u001b[0m: "
     ]
    }
   ],
   "source": [
    "# from sklearn.model_selection import GridSearchCV\n",
    "# from sklearn.pipeline import Pipeline\n",
    "\n",
    "rfe = RandomForestClassifier()\n",
    "\n",
    "param_grid = {\n",
    "    'bootstrap': [True],\n",
    "    'max_depth': [40, 45, 45, 50],\n",
    "    'max_features': [2, 3],\n",
    "    'min_samples_leaf': [3, 4, 5],\n",
    "    'min_samples_split': [3, 4, 5],\n",
    "    'n_estimators': [50, 60, 70, 80]\n",
    "}\n",
    "\n",
    "clf = GridSearchCV(estimator = rfe, param_grid = param_grid, cv = 3, verbose = 2)\n",
    "\n",
    "# clf = GridSearchCV(rfc, cv=5)\n",
    "clf.fit(X_train, y_train)\n",
    "\n",
    "print('Best Parameters: ', clf.best_estimator_.steps[-1][1])\n",
    "print(name, ' Feature Importances: ', sorted(list(zip(X.columns, clf.best_estimator_.steps[-1][1].feature_importances_)),\n",
    "                                             key=lambda x: x[1], reverse=True)[0:5])"
   ]
  },
  {
   "cell_type": "code",
   "execution_count": null,
   "metadata": {},
   "outputs": [],
   "source": []
  },
  {
   "cell_type": "code",
   "execution_count": null,
   "metadata": {},
   "outputs": [],
   "source": []
  },
  {
   "cell_type": "code",
   "execution_count": null,
   "metadata": {},
   "outputs": [],
   "source": []
  },
  {
   "cell_type": "code",
   "execution_count": null,
   "metadata": {},
   "outputs": [],
   "source": []
  },
  {
   "cell_type": "code",
   "execution_count": null,
   "metadata": {},
   "outputs": [],
   "source": []
  },
  {
   "cell_type": "code",
   "execution_count": null,
   "metadata": {},
   "outputs": [],
   "source": []
  },
  {
   "cell_type": "code",
   "execution_count": null,
   "metadata": {},
   "outputs": [],
   "source": []
  },
  {
   "cell_type": "code",
   "execution_count": null,
   "metadata": {},
   "outputs": [],
   "source": []
  },
  {
   "cell_type": "code",
   "execution_count": null,
   "metadata": {},
   "outputs": [],
   "source": []
  },
  {
   "cell_type": "code",
   "execution_count": null,
   "metadata": {},
   "outputs": [],
   "source": []
  },
  {
   "cell_type": "code",
   "execution_count": null,
   "metadata": {},
   "outputs": [],
   "source": []
  },
  {
   "cell_type": "code",
   "execution_count": null,
   "metadata": {},
   "outputs": [],
   "source": []
  },
  {
   "cell_type": "code",
   "execution_count": null,
   "metadata": {},
   "outputs": [],
   "source": []
  },
  {
   "cell_type": "code",
   "execution_count": null,
   "metadata": {},
   "outputs": [],
   "source": []
  },
  {
   "cell_type": "code",
   "execution_count": null,
   "metadata": {},
   "outputs": [],
   "source": []
  },
  {
   "cell_type": "code",
   "execution_count": null,
   "metadata": {},
   "outputs": [],
   "source": []
  },
  {
   "cell_type": "code",
   "execution_count": null,
   "metadata": {},
   "outputs": [],
   "source": []
  },
  {
   "cell_type": "code",
   "execution_count": null,
   "metadata": {},
   "outputs": [],
   "source": []
  },
  {
   "cell_type": "code",
   "execution_count": null,
   "metadata": {},
   "outputs": [],
   "source": []
  },
  {
   "cell_type": "code",
   "execution_count": null,
   "metadata": {},
   "outputs": [],
   "source": []
  }
 ],
 "metadata": {
  "kernelspec": {
   "display_name": "Python 3",
   "language": "python",
   "name": "python3"
  },
  "language_info": {
   "codemirror_mode": {
    "name": "ipython",
    "version": 3
   },
   "file_extension": ".py",
   "mimetype": "text/x-python",
   "name": "python",
   "nbconvert_exporter": "python",
   "pygments_lexer": "ipython3",
   "version": "3.7.3"
  }
 },
 "nbformat": 4,
 "nbformat_minor": 2
}
